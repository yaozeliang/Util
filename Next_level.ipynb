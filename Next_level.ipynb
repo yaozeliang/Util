{
 "cells": [
  {
   "cell_type": "code",
   "execution_count": 4,
   "metadata": {},
   "outputs": [],
   "source": [
    "from collections.abc import Iterable\n",
    "import typing\n",
    "from collections import namedtuple,defaultdict,Counter\n",
    "import pandas as pd\n",
    "import numpy as np"
   ]
  },
  {
   "cell_type": "markdown",
   "metadata": {},
   "source": [
    "## Pandas"
   ]
  },
  {
   "cell_type": "markdown",
   "metadata": {},
   "source": [
    "## List"
   ]
  },
  {
   "cell_type": "code",
   "execution_count": 87,
   "metadata": {},
   "outputs": [],
   "source": [
    "fruits = ['grape', 'raspberry', 'apple', 'banana']"
   ]
  },
  {
   "cell_type": "code",
   "execution_count": 88,
   "metadata": {},
   "outputs": [
    {
     "data": {
      "text/plain": [
       "['apple', 'banana', 'grape', 'raspberry']"
      ]
     },
     "execution_count": 88,
     "metadata": {},
     "output_type": "execute_result"
    }
   ],
   "source": [
    " sorted(fruits)"
   ]
  },
  {
   "cell_type": "code",
   "execution_count": 89,
   "metadata": {},
   "outputs": [
    {
     "data": {
      "text/plain": [
       "['raspberry', 'grape', 'banana', 'apple']"
      ]
     },
     "execution_count": 89,
     "metadata": {},
     "output_type": "execute_result"
    }
   ],
   "source": [
    "sorted(fruits, reverse=True)"
   ]
  },
  {
   "cell_type": "code",
   "execution_count": 90,
   "metadata": {},
   "outputs": [
    {
     "data": {
      "text/plain": [
       "['raspberry', 'banana', 'grape', 'apple']"
      ]
     },
     "execution_count": 90,
     "metadata": {},
     "output_type": "execute_result"
    }
   ],
   "source": [
    " sorted(fruits, key=len, reverse=True)"
   ]
  },
  {
   "cell_type": "code",
   "execution_count": null,
   "metadata": {},
   "outputs": [],
   "source": []
  },
  {
   "cell_type": "markdown",
   "metadata": {},
   "source": [
    "## Iterable"
   ]
  },
  {
   "cell_type": "code",
   "execution_count": 39,
   "metadata": {},
   "outputs": [],
   "source": [
    "def deactivate_users(users: typing.Iterable[str]):\n",
    "    \"\"\"批量停用多个用户\n",
    "    \"\"\"\n",
    "    for user in users:\n",
    "        print(user)"
   ]
  },
  {
   "cell_type": "code",
   "execution_count": 43,
   "metadata": {},
   "outputs": [],
   "source": [
    "# deactivate_users({1,2,2,3})\n",
    "# deactivate_users(['adf','dfdf'])"
   ]
  },
  {
   "cell_type": "code",
   "execution_count": 44,
   "metadata": {},
   "outputs": [
    {
     "name": "stdout",
     "output_type": "stream",
     "text": [
      "Implementati...\n",
      "Changed\n",
      "ABC for gene...\n"
     ]
    }
   ],
   "source": [
    "# 注：为了加强示例代码的说明性，本文中的部分代码片段使用了Python 3.5\n",
    "# 版本添加的 Type Hinting 特性\n",
    "\n",
    "def add_ellipsis(comments: typing.List[str], max_length: int = 12):\n",
    "    \"\"\"如果评论列表里的内容超过 max_length，剩下的字符用省略号代替\n",
    "    \"\"\"\n",
    "    index = 0\n",
    "    for comment in comments:\n",
    "        comment = comment.strip()\n",
    "        if len(comment) > max_length:\n",
    "            comments[index] = comment[:max_length] + '...'\n",
    "        index += 1\n",
    "    return comments\n",
    "\n",
    "\n",
    "comments = [\n",
    "    \"Implementation note\",\n",
    "    \"Changed\",\n",
    "    \"ABC for generator\",\n",
    "]\n",
    "print(\"\\n\".join(add_ellipsis(comments)))"
   ]
  },
  {
   "cell_type": "code",
   "execution_count": 45,
   "metadata": {},
   "outputs": [
    {
     "name": "stdout",
     "output_type": "stream",
     "text": [
      "Implementati...\n",
      "Changed\n",
      "ABC for gene...\n"
     ]
    }
   ],
   "source": [
    "def add_ellipsis_gen(comments: typing.Iterable[str], max_length: int = 12):\n",
    "    \"\"\"如果可迭代评论里的内容超过 max_length，剩下的字符用省略号代替\n",
    "    \"\"\"\n",
    "    for comment in comments:\n",
    "        comment = comment.strip()\n",
    "        if len(comment) > max_length:\n",
    "            yield comment[:max_length] + '...'\n",
    "        else:\n",
    "            yield comment\n",
    "\n",
    "\n",
    "print(\"\\n\".join(add_ellipsis_gen(comments)))"
   ]
  },
  {
   "cell_type": "code",
   "execution_count": 1,
   "metadata": {},
   "outputs": [],
   "source": [
    "class Squares:\n",
    "    def __init__(self, length):\n",
    "        self.length = length\n",
    "        self.i = 0\n",
    "    \n",
    "    def next_(self):\n",
    "        if self.i >= self.length:\n",
    "            raise StopIteration\n",
    "        else:\n",
    "            result = self.i ** 2\n",
    "            self.i += 1\n",
    "            return result           \n",
    "        \n",
    "    def __len__(self):\n",
    "        return self.length"
   ]
  },
  {
   "cell_type": "code",
   "execution_count": 2,
   "metadata": {},
   "outputs": [
    {
     "name": "stdout",
     "output_type": "stream",
     "text": [
      "0\n",
      "1\n",
      "4\n",
      "9\n",
      "16\n"
     ]
    }
   ],
   "source": [
    "sq = Squares(5)\n",
    "while True:\n",
    "    try:\n",
    "        print(sq.next_())\n",
    "    except StopIteration:\n",
    "        # reached end of iteration\n",
    "        # stop looping\n",
    "        break   "
   ]
  },
  {
   "cell_type": "markdown",
   "metadata": {},
   "source": [
    "## Defaultdict"
   ]
  },
  {
   "cell_type": "code",
   "execution_count": 22,
   "metadata": {},
   "outputs": [
    {
     "name": "stdout",
     "output_type": "stream",
     "text": [
      "The value of key  'name' is :  xiaobai\n",
      "The value of key  'adress' is :  Key Not found\n"
     ]
    }
   ],
   "source": [
    "person = defaultdict(lambda : 'Key Not found') # 初始默认所有key对应的value均为‘Key Not Found’\n",
    "person['name'] = 'xiaobai'\n",
    "person['age'] = 18\n",
    "print (\"The value of key  'name' is : \",person['name'])\n",
    "print (\"The value of key  'adress' is : \",person['city'])\n"
   ]
  },
  {
   "cell_type": "code",
   "execution_count": 21,
   "metadata": {
    "scrolled": true
   },
   "outputs": [
    {
     "name": "stdout",
     "output_type": "stream",
     "text": [
      "defaultdict(<class 'list'>, {'jack': ['milk', 'dumplings'], 'Ann': ['fruits', 'soda'], 'Arham': ['ham'], 'Ahmed': ['fried chicken']})\n"
     ]
    }
   ],
   "source": [
    "food = (\n",
    "    ('jack', 'milk'),\n",
    "    ('Ann', 'fruits'),\n",
    "    ('Arham', 'ham'),\n",
    "    ('Ann', 'soda'),\n",
    "    ('jack', 'dumplings'),\n",
    "    ('Ahmed', 'fried chicken'),\n",
    ")\n",
    "\n",
    "favourite_food = defaultdict(list)\n",
    "\n",
    "for n, f in food:\n",
    "    favourite_food[n].append(f)\n",
    "\n",
    "print(favourite_food)"
   ]
  },
  {
   "cell_type": "markdown",
   "metadata": {},
   "source": [
    "There are a few approaches to work around this issue. For example, you can use .setdefault(). This method takes a key as an argument. If the key exists in the dictionary, then it returns the corresponding value. Otherwise, the method inserts the key, assigns it a default value, and returns that value:\n"
   ]
  },
  {
   "cell_type": "code",
   "execution_count": 66,
   "metadata": {},
   "outputs": [
    {
     "data": {
      "text/plain": [
       "{'pet': 'dog', 'color': 'blue', 'language': 'Python', 'fruit': 'apple'}"
      ]
     },
     "execution_count": 66,
     "metadata": {},
     "output_type": "execute_result"
    }
   ],
   "source": [
    "favorites = {\"pet\": \"dog\", \"color\": \"blue\", \"language\": \"Python\"}\n",
    "favorites.setdefault(\"fruit\", \"apple\")\n",
    "favorites"
   ]
  },
  {
   "cell_type": "code",
   "execution_count": 67,
   "metadata": {},
   "outputs": [
    {
     "data": {
      "text/plain": [
       "{'pet': 'dog', 'color': 'blue', 'language': 'Python', 'fruit': 'apple'}"
      ]
     },
     "execution_count": 67,
     "metadata": {},
     "output_type": "execute_result"
    }
   ],
   "source": [
    "favorites.setdefault(\"pet\", \"cat\")\n",
    "favorites"
   ]
  },
  {
   "cell_type": "code",
   "execution_count": 71,
   "metadata": {},
   "outputs": [
    {
     "name": "stdout",
     "output_type": "stream",
     "text": [
      "dog -> ['Affenpinscher', 'Terrier', 'Boxer']\n",
      "cat -> ['Abyssinian', 'Birman']\n"
     ]
    }
   ],
   "source": [
    "from collections import defaultdict\n",
    "\n",
    "pets = [\n",
    "    (\"dog\", \"Affenpinscher\"),\n",
    "    (\"dog\", \"Terrier\"),\n",
    "    (\"dog\", \"Boxer\"),\n",
    "    (\"cat\", \"Abyssinian\"),\n",
    "    (\"cat\", \"Birman\"),\n",
    "]\n",
    "\n",
    "group_pets = defaultdict(list)\n",
    "\n",
    "for pet, breed in pets:\n",
    "    group_pets[pet].append(breed)\n",
    "\n",
    "for pet, breeds in group_pets.items():\n",
    "    print(pet, \"->\", breeds)"
   ]
  },
  {
   "cell_type": "markdown",
   "metadata": {},
   "source": [
    "## Counter"
   ]
  },
  {
   "cell_type": "code",
   "execution_count": 24,
   "metadata": {},
   "outputs": [
    {
     "data": {
      "text/plain": [
       "Counter({'B': 5, 'A': 3, 'C': 2})"
      ]
     },
     "execution_count": 24,
     "metadata": {},
     "output_type": "execute_result"
    }
   ],
   "source": [
    "count_list = Counter(['B','B','A','B','C','A','B','B','A','C'])  #计数list\n",
    "count_list"
   ]
  },
  {
   "cell_type": "code",
   "execution_count": 25,
   "metadata": {},
   "outputs": [
    {
     "data": {
      "text/plain": [
       "Counter({2: 3, 3: 2, 1: 4})"
      ]
     },
     "execution_count": 25,
     "metadata": {},
     "output_type": "execute_result"
    }
   ],
   "source": [
    "count_tuple = Counter((2,2,2,3,1,3,1,1,1))  #计数tuple\n",
    "count_tuple"
   ]
  },
  {
   "cell_type": "code",
   "execution_count": 29,
   "metadata": {
    "scrolled": true
   },
   "outputs": [
    {
     "data": {
      "text/html": [
       "<div>\n",
       "<style scoped>\n",
       "    .dataframe tbody tr th:only-of-type {\n",
       "        vertical-align: middle;\n",
       "    }\n",
       "\n",
       "    .dataframe tbody tr th {\n",
       "        vertical-align: top;\n",
       "    }\n",
       "\n",
       "    .dataframe thead th {\n",
       "        text-align: right;\n",
       "    }\n",
       "</style>\n",
       "<table border=\"1\" class=\"dataframe\">\n",
       "  <thead>\n",
       "    <tr style=\"text-align: right;\">\n",
       "      <th></th>\n",
       "      <th>name</th>\n",
       "      <th>value</th>\n",
       "    </tr>\n",
       "  </thead>\n",
       "  <tbody>\n",
       "    <tr>\n",
       "      <th>0</th>\n",
       "      <td>a</td>\n",
       "      <td>1</td>\n",
       "    </tr>\n",
       "    <tr>\n",
       "      <th>1</th>\n",
       "      <td>b</td>\n",
       "      <td>2</td>\n",
       "    </tr>\n",
       "    <tr>\n",
       "      <th>2</th>\n",
       "      <td>c</td>\n",
       "      <td>3</td>\n",
       "    </tr>\n",
       "    <tr>\n",
       "      <th>3</th>\n",
       "      <td>a</td>\n",
       "      <td>4</td>\n",
       "    </tr>\n",
       "    <tr>\n",
       "      <th>4</th>\n",
       "      <td>a</td>\n",
       "      <td>5</td>\n",
       "    </tr>\n",
       "    <tr>\n",
       "      <th>5</th>\n",
       "      <td>b</td>\n",
       "      <td>6</td>\n",
       "    </tr>\n",
       "  </tbody>\n",
       "</table>\n",
       "</div>"
      ],
      "text/plain": [
       "  name  value\n",
       "0    a      1\n",
       "1    b      2\n",
       "2    c      3\n",
       "3    a      4\n",
       "4    a      5\n",
       "5    b      6"
      ]
     },
     "execution_count": 29,
     "metadata": {},
     "output_type": "execute_result"
    }
   ],
   "source": [
    "df= pd.DataFrame({'name':['a','b','c','a','a','b'],'value':[1,2,3,4,5,6]})\n",
    "df"
   ]
  },
  {
   "cell_type": "code",
   "execution_count": 31,
   "metadata": {},
   "outputs": [
    {
     "data": {
      "text/plain": [
       "Counter({'a': 3, 'b': 2, 'c': 1})"
      ]
     },
     "execution_count": 31,
     "metadata": {},
     "output_type": "execute_result"
    }
   ],
   "source": [
    "counter_result = Counter(df['name'])\n",
    "counter_result"
   ]
  },
  {
   "cell_type": "code",
   "execution_count": 37,
   "metadata": {},
   "outputs": [],
   "source": [
    "# df['frequency'] =[ counter_result[n] for n in df['name'] ] \n",
    "df['frequency'] = df['name'].map(df['name'].value_counts())"
   ]
  },
  {
   "cell_type": "code",
   "execution_count": 38,
   "metadata": {
    "scrolled": true
   },
   "outputs": [
    {
     "data": {
      "text/html": [
       "<div>\n",
       "<style scoped>\n",
       "    .dataframe tbody tr th:only-of-type {\n",
       "        vertical-align: middle;\n",
       "    }\n",
       "\n",
       "    .dataframe tbody tr th {\n",
       "        vertical-align: top;\n",
       "    }\n",
       "\n",
       "    .dataframe thead th {\n",
       "        text-align: right;\n",
       "    }\n",
       "</style>\n",
       "<table border=\"1\" class=\"dataframe\">\n",
       "  <thead>\n",
       "    <tr style=\"text-align: right;\">\n",
       "      <th></th>\n",
       "      <th>name</th>\n",
       "      <th>value</th>\n",
       "      <th>frequency</th>\n",
       "    </tr>\n",
       "  </thead>\n",
       "  <tbody>\n",
       "    <tr>\n",
       "      <th>0</th>\n",
       "      <td>a</td>\n",
       "      <td>1</td>\n",
       "      <td>3</td>\n",
       "    </tr>\n",
       "    <tr>\n",
       "      <th>1</th>\n",
       "      <td>b</td>\n",
       "      <td>2</td>\n",
       "      <td>2</td>\n",
       "    </tr>\n",
       "    <tr>\n",
       "      <th>2</th>\n",
       "      <td>c</td>\n",
       "      <td>3</td>\n",
       "      <td>1</td>\n",
       "    </tr>\n",
       "    <tr>\n",
       "      <th>3</th>\n",
       "      <td>a</td>\n",
       "      <td>4</td>\n",
       "      <td>3</td>\n",
       "    </tr>\n",
       "    <tr>\n",
       "      <th>4</th>\n",
       "      <td>a</td>\n",
       "      <td>5</td>\n",
       "      <td>3</td>\n",
       "    </tr>\n",
       "    <tr>\n",
       "      <th>5</th>\n",
       "      <td>b</td>\n",
       "      <td>6</td>\n",
       "      <td>2</td>\n",
       "    </tr>\n",
       "  </tbody>\n",
       "</table>\n",
       "</div>"
      ],
      "text/plain": [
       "  name  value  frequency\n",
       "0    a      1          3\n",
       "1    b      2          2\n",
       "2    c      3          1\n",
       "3    a      4          3\n",
       "4    a      5          3\n",
       "5    b      6          2"
      ]
     },
     "execution_count": 38,
     "metadata": {},
     "output_type": "execute_result"
    }
   ],
   "source": [
    "df"
   ]
  },
  {
   "cell_type": "code",
   "execution_count": 72,
   "metadata": {},
   "outputs": [
    {
     "data": {
      "text/plain": [
       "Counter({'m': 1, 'i': 4, 's': 4, 'p': 2})"
      ]
     },
     "execution_count": 72,
     "metadata": {},
     "output_type": "execute_result"
    }
   ],
   "source": [
    "from collections import Counter\n",
    "\n",
    "letters = Counter(\"mississippi\")\n",
    "letters"
   ]
  },
  {
   "cell_type": "code",
   "execution_count": 73,
   "metadata": {},
   "outputs": [
    {
     "data": {
      "text/plain": [
       "Counter({'m': 4, 'i': 8, 's': 4, 'p': 2})"
      ]
     },
     "execution_count": 73,
     "metadata": {},
     "output_type": "execute_result"
    }
   ],
   "source": [
    "# Update the counts of m and i\n",
    "letters.update(m=3, i=4)\n",
    "letters"
   ]
  },
  {
   "cell_type": "code",
   "execution_count": 74,
   "metadata": {},
   "outputs": [
    {
     "data": {
      "text/plain": [
       "Counter({'m': 4, 'i': 8, 's': 4, 'p': 2, 'a': 2})"
      ]
     },
     "execution_count": 74,
     "metadata": {},
     "output_type": "execute_result"
    }
   ],
   "source": [
    "letters.update({\"a\": 2})\n",
    "letters"
   ]
  },
  {
   "cell_type": "code",
   "execution_count": 75,
   "metadata": {},
   "outputs": [
    {
     "data": {
      "text/plain": [
       "Counter({'dogs': 21, 'cats': 9, 'pythons': 6})"
      ]
     },
     "execution_count": 75,
     "metadata": {},
     "output_type": "execute_result"
    }
   ],
   "source": [
    "from collections import Counter\n",
    "\n",
    "inventory = Counter(dogs=23, cats=14, pythons=7)\n",
    "\n",
    "adopted = Counter(dogs=2, cats=5, pythons=1)\n",
    "inventory.subtract(adopted)\n",
    "inventory"
   ]
  },
  {
   "cell_type": "code",
   "execution_count": 76,
   "metadata": {},
   "outputs": [
    {
     "data": {
      "text/plain": [
       "Counter({'dogs': 25, 'cats': 10, 'pythons': 6})"
      ]
     },
     "execution_count": 76,
     "metadata": {},
     "output_type": "execute_result"
    }
   ],
   "source": [
    "new_pets = {\"dogs\": 4, \"cats\": 1}\n",
    "inventory.update(new_pets)\n",
    "inventory"
   ]
  },
  {
   "cell_type": "code",
   "execution_count": 77,
   "metadata": {},
   "outputs": [
    {
     "data": {
      "text/plain": [
       "Counter({'dogs': 23, 'cats': 7, 'pythons': 5})"
      ]
     },
     "execution_count": 77,
     "metadata": {},
     "output_type": "execute_result"
    }
   ],
   "source": [
    "inventory = inventory - Counter(dogs=2, cats=3, pythons=1)\n",
    "inventory"
   ]
  },
  {
   "cell_type": "code",
   "execution_count": 78,
   "metadata": {},
   "outputs": [
    {
     "data": {
      "text/plain": [
       "Counter({'dogs': 27, 'cats': 7, 'pythons': 7})"
      ]
     },
     "execution_count": 78,
     "metadata": {},
     "output_type": "execute_result"
    }
   ],
   "source": [
    "new_pets = {\"dogs\": 4, \"pythons\": 2}\n",
    "inventory += new_pets\n",
    "inventory"
   ]
  },
  {
   "cell_type": "markdown",
   "metadata": {},
   "source": [
    "## Chainmap"
   ]
  },
  {
   "cell_type": "code",
   "execution_count": 83,
   "metadata": {},
   "outputs": [
    {
     "data": {
      "text/plain": [
       "[{}, {'proxy': 'proxy.local.com'}, {'proxy': 'proxy.global.com'}]"
      ]
     },
     "execution_count": 83,
     "metadata": {},
     "output_type": "execute_result"
    }
   ],
   "source": [
    "from collections import ChainMap\n",
    "\n",
    "cmd_proxy = {}  # The user doesn't provide a proxy\n",
    "local_proxy = {\"proxy\": \"proxy.local.com\"}\n",
    "global_proxy = {\"proxy\": \"proxy.global.com\"}\n",
    "\n",
    "config = ChainMap(cmd_proxy, local_proxy, global_proxy)\n",
    "config.maps"
   ]
  },
  {
   "cell_type": "markdown",
   "metadata": {},
   "source": [
    "The instance attribute .maps gives you access to the internal list of mappings. This list is updatable. You can add and remove mappings manually, iterate through the list, and more.\n",
    "\n",
    "Additionally, ChainMap provides a .new_child() method and a .parents property:"
   ]
  },
  {
   "cell_type": "code",
   "execution_count": 94,
   "metadata": {},
   "outputs": [
    {
     "data": {
      "text/plain": [
       "ChainMap({'name': 'Jane', 'age': 31}, {'name': 'John', 'age': 35})"
      ]
     },
     "execution_count": 94,
     "metadata": {},
     "output_type": "execute_result"
    }
   ],
   "source": [
    "from collections import ChainMap\n",
    "\n",
    "dad = {\"name\": \"John\", \"age\": 35}\n",
    "mom = {\"name\": \"Jane\", \"age\": 31}\n",
    "family = ChainMap(mom, dad)\n",
    "family"
   ]
  },
  {
   "cell_type": "code",
   "execution_count": 95,
   "metadata": {},
   "outputs": [
    {
     "name": "stdout",
     "output_type": "stream",
     "text": [
      "{'name': 'Mike', 'age': 0}\n",
      "{'name': 'Jane', 'age': 31}\n",
      "{'name': 'John', 'age': 35}\n"
     ]
    }
   ],
   "source": [
    "son = {\"name\": \"Mike\", \"age\": 0}\n",
    "family = family.new_child(son)\n",
    "\n",
    "for person in family.maps:\n",
    "    print(person)"
   ]
  },
  {
   "cell_type": "code",
   "execution_count": 96,
   "metadata": {},
   "outputs": [
    {
     "data": {
      "text/plain": [
       "ChainMap({'name': 'Jane', 'age': 31}, {'name': 'John', 'age': 35})"
      ]
     },
     "execution_count": 96,
     "metadata": {},
     "output_type": "execute_result"
    }
   ],
   "source": [
    "family.parents"
   ]
  },
  {
   "cell_type": "markdown",
   "metadata": {},
   "source": [
    "## Customizing Built-Ins: UserString, UserList, and UserDict"
   ]
  },
  {
   "cell_type": "code",
   "execution_count": 99,
   "metadata": {},
   "outputs": [
    {
     "data": {
      "text/plain": [
       "{'first': 1, 'second': 2, 'third': 3, 'fourth': 4}"
      ]
     },
     "execution_count": 99,
     "metadata": {},
     "output_type": "execute_result"
    }
   ],
   "source": [
    "from collections import UserDict\n",
    "class LowerDict(UserDict):\n",
    "    def __setitem__(self, key, value):\n",
    "        key = key.lower()\n",
    "        super().__setitem__(key, value)\n",
    "\n",
    "\n",
    "ordinals = LowerDict({\"FIRST\": 1, \"SECOND\": 2})\n",
    "ordinals[\"THIRD\"] = 3\n",
    "ordinals.update({\"FOURTH\": 4})\n",
    "\n",
    "ordinals\n"
   ]
  },
  {
   "cell_type": "code",
   "execution_count": 100,
   "metadata": {},
   "outputs": [
    {
     "data": {
      "text/plain": [
       "False"
      ]
     },
     "execution_count": 100,
     "metadata": {},
     "output_type": "execute_result"
    }
   ],
   "source": [
    "isinstance(ordinals, dict)"
   ]
  },
  {
   "cell_type": "markdown",
   "metadata": {},
   "source": [
    "## if else"
   ]
  },
  {
   "cell_type": "code",
   "execution_count": null,
   "metadata": {},
   "outputs": [],
   "source": [
    "def timesince(date):\n",
    "    now = timezone.now()\n",
    "    diff = now - date\n",
    "\n",
    "    if diff.days == 0 and diff.seconds >= 0 and diff.seconds < 60:\n",
    "        return ' just now'\n",
    "    if diff.days == 0 and diff.seconds >= 60 and diff.seconds < 3600:\n",
    "        return str(math.floor(diff.seconds / 60)) + \" minutes ago\"\n",
    "    if diff.days == 0 and diff.seconds >= 3600 and diff.seconds < 86400:\n",
    "        return str(math.floor(diff.seconds / 3600)) + \" hours ago\"\n",
    "    if diff.days == 1 and diff.days < 30:\n",
    "        return str(diff.days) + \" day ago\"\n",
    "    if diff.days >= 1 and diff.days < 30:\n",
    "        return str(diff.days) + \" days ago\"\n",
    "    if diff.days >= 30 and diff.days < 365:\n",
    "        return str(math.floor(diff.days / 30)) + \" months ago\"\n",
    "    if diff.days >= 365:\n",
    "        return str(math.floor(diff.days / 365)) + \" years ago\""
   ]
  },
  {
   "cell_type": "code",
   "execution_count": 46,
   "metadata": {},
   "outputs": [],
   "source": [
    "import bisect\n",
    "\n",
    "\n",
    "# BREAKPOINTS 必须是已经排好序的，不然无法进行二分查找\n",
    "BREAKPOINTS = (1, 60, 3600, 3600 * 24)\n",
    "TMPLS = (\n",
    "    # unit, template\n",
    "    (1, \"less than 1 second ago\"),\n",
    "    (1, \"{units} seconds ago\"),\n",
    "    (60, \"{units} minutes ago\"),\n",
    "    (3600, \"{units} hours ago\"),\n",
    "    (3600 * 24, \"{units} days ago\"),\n",
    ")\n",
    "\n",
    "\n",
    "def from_now(ts):\n",
    "    \"\"\"接收一个过去的时间戳，返回距离当前时间的相对时间文字描述\n",
    "    \"\"\"\n",
    "    seconds_delta = int(time.time() - ts)\n",
    "    unit, tmpl = TMPLS[bisect.bisect(BREAKPOINTS, seconds_delta)]\n",
    "    return tmpl.format(units=seconds_delta // unit)"
   ]
  },
  {
   "cell_type": "code",
   "execution_count": 52,
   "metadata": {
    "scrolled": true
   },
   "outputs": [
    {
     "name": "stdout",
     "output_type": "stream",
     "text": [
      "less than 1 second ago\n",
      "24 seconds ago\n",
      "10 minutes ago\n",
      "2 hours ago\n",
      "1 days ago\n"
     ]
    }
   ],
   "source": [
    "import time\n",
    "import datetime\n",
    "now = time.time()\n",
    "print(from_now(now))\n",
    "print(from_now(now - 24))\n",
    "print(from_now(now - 600))\n",
    "print(from_now(now - 7500))\n",
    "print(from_now(now - 87500))"
   ]
  },
  {
   "cell_type": "markdown",
   "metadata": {},
   "source": [
    "## namedtuple"
   ]
  },
  {
   "cell_type": "code",
   "execution_count": 59,
   "metadata": {},
   "outputs": [
    {
     "name": "stdout",
     "output_type": "stream",
     "text": [
      "Person(name='xiaobai', age=18, city='paris')\n"
     ]
    }
   ],
   "source": [
    "Person = namedtuple('Person', 'name age city')        # 类似于定义class\n",
    "xiaobai = Person(name=\"xiaobai\", age=18, city=\"paris\") # 类似于新建对象\n",
    "print(xiaobai)"
   ]
  },
  {
   "cell_type": "code",
   "execution_count": 60,
   "metadata": {},
   "outputs": [],
   "source": [
    "class DataPoint(namedtuple('DataPoint', ['date', 'value'])):\n",
    "    __slots__ = ()\n",
    "\n",
    "    def __le__(self, other):\n",
    "        return self.value <= other.value\n",
    "\n",
    "    def __lt__(self, other):\n",
    "        return self.value < other.value\n",
    "\n",
    "    def __gt__(self, other):\n",
    "        return self.value > other.value"
   ]
  },
  {
   "cell_type": "code",
   "execution_count": 61,
   "metadata": {},
   "outputs": [],
   "source": [
    "# def read_prices(csvfile, _strptime=datetime.strptime):\n",
    "#     with open(csvfile) as infile:\n",
    "#         reader = csv.DictReader(infile)\n",
    "#         for row in reader:\n",
    "#             yield DataPoint(date=_strptime(row['Date'], '%Y-%m-%d').date(),\n",
    "#                             value=float(row['Adj Close']))\n"
   ]
  },
  {
   "cell_type": "code",
   "execution_count": 82,
   "metadata": {},
   "outputs": [
    {
     "data": {
      "text/plain": [
       "City(name='Tokyo', country='JP', population=36.933, coordinates=(35.689722, 139.691667))"
      ]
     },
     "execution_count": 82,
     "metadata": {},
     "output_type": "execute_result"
    }
   ],
   "source": [
    "City = namedtuple('City', 'name country population coordinates')\n",
    "tokyo = City('Tokyo', 'JP', 36.933, (35.689722, 139.691667))\n",
    "tokyo"
   ]
  },
  {
   "cell_type": "code",
   "execution_count": 83,
   "metadata": {},
   "outputs": [
    {
     "data": {
      "text/plain": [
       "('name', 'country', 'population', 'coordinates')"
      ]
     },
     "execution_count": 83,
     "metadata": {},
     "output_type": "execute_result"
    }
   ],
   "source": [
    "tokyo._fields"
   ]
  },
  {
   "cell_type": "code",
   "execution_count": 84,
   "metadata": {},
   "outputs": [
    {
     "name": "stdout",
     "output_type": "stream",
     "text": [
      "name: Delhi NCR\n",
      "country: IN\n",
      "population: 21.935\n",
      "coordinates: LatLong(lat=28.613889, long=77.208889)\n"
     ]
    }
   ],
   "source": [
    "LatLong = namedtuple('LatLong', 'lat long')\n",
    "delhi_data = ('Delhi NCR', 'IN', 21.935, LatLong(28.613889, 77.208889))\n",
    "delhi = City._make(delhi_data) \n",
    "delhi._asdict() \n",
    "for key, value in delhi._asdict().items():\n",
    "    print(key + ':', value)"
   ]
  },
  {
   "cell_type": "code",
   "execution_count": 86,
   "metadata": {},
   "outputs": [
    {
     "data": {
      "text/plain": [
       "28.613889"
      ]
     },
     "execution_count": 86,
     "metadata": {},
     "output_type": "execute_result"
    }
   ],
   "source": [
    "delhi.coordinates.lat"
   ]
  },
  {
   "cell_type": "code",
   "execution_count": 4,
   "metadata": {},
   "outputs": [
    {
     "name": "stdout",
     "output_type": "stream",
     "text": [
      "OrderedDict([('name', 'Jane'), ('age', 25), ('height', 1.75)])\n"
     ]
    },
    {
     "data": {
      "text/plain": [
       "'Jane'"
      ]
     },
     "execution_count": 4,
     "metadata": {},
     "output_type": "execute_result"
    }
   ],
   "source": [
    "from collections import namedtuple\n",
    "\n",
    "Person = namedtuple(\"Person\", \"name age height\")\n",
    "jane = Person(\"Jane\", 25, 1.75)\n",
    "print(jane._asdict())\n",
    "jane._asdict()['name']"
   ]
  },
  {
   "cell_type": "markdown",
   "metadata": {},
   "source": [
    "##### Replacing Fields in Existing namedtuple Instances\n"
   ]
  },
  {
   "cell_type": "code",
   "execution_count": 5,
   "metadata": {},
   "outputs": [
    {
     "data": {
      "text/plain": [
       "Person(name='Jane', age=26, height=1.75)"
      ]
     },
     "execution_count": 5,
     "metadata": {},
     "output_type": "execute_result"
    }
   ],
   "source": [
    "from collections import namedtuple\n",
    "\n",
    "Person = namedtuple(\"Person\", \"name age height\")\n",
    "jane = Person(\"Jane\", 25, 1.75)\n",
    "# After Jane's birthday\n",
    "jane = jane._replace(age=26)\n",
    "jane\n"
   ]
  },
  {
   "cell_type": "markdown",
   "metadata": {},
   "source": [
    "##### Exploring Additional namedtuple Attributes\n"
   ]
  },
  {
   "cell_type": "code",
   "execution_count": 6,
   "metadata": {},
   "outputs": [
    {
     "data": {
      "text/plain": [
       "67"
      ]
     },
     "execution_count": 6,
     "metadata": {},
     "output_type": "execute_result"
    }
   ],
   "source": [
    "from collections import namedtuple\n",
    "\n",
    "Person = namedtuple(\"Person\", \"name age height\")\n",
    "\n",
    "ExtendedPerson = namedtuple(\n",
    "    \"ExtendedPerson\",\n",
    "    [*Person._fields, \"weight\"]\n",
    ")\n",
    "\n",
    "jane = ExtendedPerson(\"Jane\", 26, 1.75, 67)\n",
    "jane\n",
    "\n",
    "jane.weight"
   ]
  },
  {
   "cell_type": "markdown",
   "metadata": {},
   "source": [
    "#####  For loop  namedtuple"
   ]
  },
  {
   "cell_type": "code",
   "execution_count": 7,
   "metadata": {},
   "outputs": [
    {
     "name": "stdout",
     "output_type": "stream",
     "text": [
      "name -> Jane\n",
      "age -> 26\n",
      "height -> 1.75\n",
      "weight -> 67\n"
     ]
    }
   ],
   "source": [
    "from collections import namedtuple\n",
    "\n",
    "Person = namedtuple(\"Person\", \"name age height weight\")\n",
    "jane = Person(\"Jane\", 26, 1.75, 67)\n",
    "for field, value in zip(jane._fields, jane):\n",
    "    print(field, \"->\", value)"
   ]
  },
  {
   "cell_type": "markdown",
   "metadata": {},
   "source": [
    "#####  Default values"
   ]
  },
  {
   "cell_type": "code",
   "execution_count": 12,
   "metadata": {},
   "outputs": [
    {
     "name": "stdout",
     "output_type": "stream",
     "text": [
      "{'weight': 'Canada', 'country': 75}\n"
     ]
    },
    {
     "data": {
      "text/plain": [
       "Person(name='Mike', age=24, height=180, weight='Canada', country=75)"
      ]
     },
     "execution_count": 12,
     "metadata": {},
     "output_type": "execute_result"
    }
   ],
   "source": [
    "from collections import namedtuple\n",
    "\n",
    "Person = namedtuple(\n",
    "    \"Person\",\n",
    "    \"name age height weight country\",\n",
    "    defaults=[\"Canada\",75]\n",
    ")\n",
    "\n",
    "print(Person._field_defaults)\n",
    "\n",
    "\n",
    "Mike= Person(\"Mike\",24,180)\n",
    "Mike"
   ]
  },
  {
   "cell_type": "markdown",
   "metadata": {},
   "source": [
    "##### Returning Multiple Named Values From Functions\n"
   ]
  },
  {
   "cell_type": "code",
   "execution_count": 13,
   "metadata": {},
   "outputs": [
    {
     "data": {
      "text/plain": [
       "DivMod(quotient=2, remainder=0)"
      ]
     },
     "execution_count": 13,
     "metadata": {},
     "output_type": "execute_result"
    }
   ],
   "source": [
    "from collections import namedtuple\n",
    "\n",
    "def custom_divmod(a, b):\n",
    "    DivMod = namedtuple(\"DivMod\", \"quotient remainder\")\n",
    "    return DivMod(*divmod(a, b))\n",
    "\n",
    "\n",
    "custom_divmod(8, 4)"
   ]
  },
  {
   "cell_type": "markdown",
   "metadata": {},
   "source": [
    "##### Reducing the Number of Arguments to Functions\n"
   ]
  },
  {
   "cell_type": "code",
   "execution_count": 14,
   "metadata": {},
   "outputs": [],
   "source": [
    "User = namedtuple(\"User\", \"username client_name plan\")\n",
    "user = User(\"john\", \"John Doe\", \"Premium\")\n",
    "\n",
    "def create_user(db, user):\n",
    "    db.add_user(user.username)\n",
    "    db.complete_user_profile(\n",
    "        user.username,\n",
    "        user.client_name,\n",
    "        user.plan\n",
    "    )"
   ]
  },
  {
   "cell_type": "markdown",
   "metadata": {},
   "source": [
    "##### namedtuple vs Data Class"
   ]
  },
  {
   "cell_type": "markdown",
   "metadata": {},
   "source": [
    "Data Classes can be thought of as “mutable namedtuples with defaults.” (Source) However, it’d be more accurate to say that data classes are like mutable named tuples with type hints. The “defaults” part isn’t a difference at all because named tuples can also have default values for their fields. So, at first glance, the main differences are mutability and type hints."
   ]
  },
  {
   "cell_type": "code",
   "execution_count": 17,
   "metadata": {
    "scrolled": true
   },
   "outputs": [
    {
     "name": "stdout",
     "output_type": "stream",
     "text": [
      "Jane\n"
     ]
    },
    {
     "data": {
      "text/plain": [
       "'Mike'"
      ]
     },
     "execution_count": 17,
     "metadata": {},
     "output_type": "execute_result"
    }
   ],
   "source": [
    "from dataclasses import dataclass\n",
    "\n",
    "@dataclass\n",
    "class Person:\n",
    "    name: str\n",
    "    age: int\n",
    "    height: float\n",
    "    weight: float\n",
    "    country: str = \"Canada\"\n",
    "\n",
    "\n",
    "jane = Person(\"Jane\", 25, 1.75, 67)\n",
    "print(jane.name)\n",
    "jane.name = \"Mike\"\n",
    "jane.name"
   ]
  },
  {
   "cell_type": "markdown",
   "metadata": {},
   "source": [
    "##### Add fronzen=True, can't modify data any more"
   ]
  },
  {
   "cell_type": "code",
   "execution_count": 18,
   "metadata": {},
   "outputs": [
    {
     "ename": "FrozenInstanceError",
     "evalue": "cannot assign to field 'name'",
     "output_type": "error",
     "traceback": [
      "\u001b[1;31m---------------------------------------------------------------------------\u001b[0m",
      "\u001b[1;31mFrozenInstanceError\u001b[0m                       Traceback (most recent call last)",
      "\u001b[1;32m<ipython-input-18-39899a3cd07d>\u001b[0m in \u001b[0;36m<module>\u001b[1;34m\u001b[0m\n\u001b[0;32m     11\u001b[0m \u001b[1;33m\u001b[0m\u001b[0m\n\u001b[0;32m     12\u001b[0m \u001b[0mjane\u001b[0m \u001b[1;33m=\u001b[0m \u001b[0mPerson\u001b[0m\u001b[1;33m(\u001b[0m\u001b[1;34m\"Jane\"\u001b[0m\u001b[1;33m,\u001b[0m \u001b[1;36m25\u001b[0m\u001b[1;33m,\u001b[0m \u001b[1;36m1.75\u001b[0m\u001b[1;33m,\u001b[0m \u001b[1;36m67\u001b[0m\u001b[1;33m)\u001b[0m\u001b[1;33m\u001b[0m\u001b[1;33m\u001b[0m\u001b[0m\n\u001b[1;32m---> 13\u001b[1;33m \u001b[0mjane\u001b[0m\u001b[1;33m.\u001b[0m\u001b[0mname\u001b[0m \u001b[1;33m=\u001b[0m \u001b[1;34m\"Jane Doe\"\u001b[0m\u001b[1;33m\u001b[0m\u001b[1;33m\u001b[0m\u001b[0m\n\u001b[0m",
      "\u001b[1;32m<string>\u001b[0m in \u001b[0;36m__setattr__\u001b[1;34m(self, name, value)\u001b[0m\n",
      "\u001b[1;31mFrozenInstanceError\u001b[0m: cannot assign to field 'name'"
     ]
    }
   ],
   "source": [
    "from dataclasses import dataclass\n",
    "\n",
    "@dataclass(frozen=True)\n",
    "class Person:\n",
    "    name: str\n",
    "    age: int\n",
    "    height: float\n",
    "    weight: float\n",
    "    country: str = \"Canada\"\n",
    "\n",
    "\n",
    "jane = Person(\"Jane\", 25, 1.75, 67)\n",
    "jane.name = \"Jane Doe\""
   ]
  },
  {
   "cell_type": "markdown",
   "metadata": {},
   "source": [
    "##### Subclassing namedtuple Classes\n"
   ]
  },
  {
   "cell_type": "code",
   "execution_count": 33,
   "metadata": {},
   "outputs": [
    {
     "name": "stdout",
     "output_type": "stream",
     "text": [
      "A namedtuple subclass to hold a person's data.\n"
     ]
    },
    {
     "data": {
      "text/plain": [
       "25"
      ]
     },
     "execution_count": 33,
     "metadata": {},
     "output_type": "execute_result"
    }
   ],
   "source": [
    "from collections import namedtuple\n",
    "from datetime import date\n",
    "\n",
    "BasePerson = namedtuple(\n",
    "    \"BasePerson\",\n",
    "    \"name birthdate country\",\n",
    "    defaults=[\"Canada\"]\n",
    ")\n",
    "\n",
    "class Person(BasePerson):\n",
    "    \"\"\"A namedtuple subclass to hold a person's data.\"\"\"\n",
    "    __slots__ = ()\n",
    "    def __repr__(self):\n",
    "        return f\"Name: {self.name}, age: {self.age} years old.\"\n",
    "    @property\n",
    "    def age(self):\n",
    "        return (date.today() - self.birthdate).days // 365\n",
    "\n",
    "\n",
    "print(Person.__doc__)\n",
    "jane = Person(\"Jane\", date(1996, 3, 5))\n",
    "jane.age"
   ]
  },
  {
   "cell_type": "markdown",
   "metadata": {},
   "source": [
    "## Deque"
   ]
  },
  {
   "cell_type": "markdown",
   "metadata": {},
   "source": [
    "Python’s deque is a low-level and highly optimized double-ended queue that’s useful for implementing elegant, efficient, and Pythonic queues and stacks, which are the most common list-like data types in computing."
   ]
  },
  {
   "cell_type": "markdown",
   "metadata": {},
   "source": [
    "Here’s a summary of the main characteristics of deque:\n",
    "\n",
    "- Stores items of any data type\n",
    "- Is a mutable data type\n",
    "- Supports membership operations with the in operator\n",
    "- Supports indexing, like in a_deque[i]\n",
    "- Doesn’t support slicing, like in a_deque[0:2]\n",
    "- Supports built-in functions that operate on sequences and iterables, such as len(), sorted(), reversed(), and more\n",
    "- Doesn’t support in-place sorting\n",
    "- Supports normal and reverse iteration\n",
    "- Supports pickling with pickle\n",
    "- Ensures fast, memory-efficient, and thread-safe pop and append operations on both ends"
   ]
  },
  {
   "cell_type": "code",
   "execution_count": 34,
   "metadata": {},
   "outputs": [
    {
     "data": {
      "text/plain": [
       "deque([])"
      ]
     },
     "execution_count": 34,
     "metadata": {},
     "output_type": "execute_result"
    }
   ],
   "source": [
    "from collections import deque\n",
    "\n",
    "# Create an empty deque\n",
    "deque()"
   ]
  },
  {
   "cell_type": "code",
   "execution_count": 35,
   "metadata": {},
   "outputs": [
    {
     "data": {
      "text/plain": [
       "deque([1, 2, 3, 4])"
      ]
     },
     "execution_count": 35,
     "metadata": {},
     "output_type": "execute_result"
    }
   ],
   "source": [
    "# Use different iterables to create deques\n",
    "print(deque((1, 2, 3, 4)))"
   ]
  },
  {
   "cell_type": "code",
   "execution_count": 37,
   "metadata": {
    "scrolled": true
   },
   "outputs": [
    {
     "name": "stdout",
     "output_type": "stream",
     "text": [
      "deque([1, 2, 3, 4])\n",
      "deque([1, 2, 3, 4])\n",
      "deque(['a', 'b', 'c', 'd'])\n",
      "deque(['one', 'two', 'three', 'four'])\n",
      "deque([1, 2, 3, 4])\n",
      "deque([('one', 1), ('two', 2), ('three', 3), ('four', 4)])\n"
     ]
    }
   ],
   "source": [
    "print(deque([1, 2, 3, 4]))\n",
    "print(deque(range(1, 5)))\n",
    "print(deque(\"abcd\"))\n",
    "numbers = {\"one\": 1, \"two\": 2, \"three\": 3, \"four\": 4}\n",
    "print(deque(numbers.keys()))\n",
    "print(deque(numbers.values()))\n",
    "print(deque(numbers.items()))\n"
   ]
  },
  {
   "cell_type": "markdown",
   "metadata": {},
   "source": [
    "##### Popping and Appending Items Efficiently\n"
   ]
  },
  {
   "cell_type": "code",
   "execution_count": 38,
   "metadata": {},
   "outputs": [
    {
     "data": {
      "text/plain": [
       "1"
      ]
     },
     "execution_count": 38,
     "metadata": {},
     "output_type": "execute_result"
    }
   ],
   "source": [
    "from collections import deque\n",
    "\n",
    "numbers = deque([1, 2, 3, 4])\n",
    "numbers.popleft()"
   ]
  },
  {
   "cell_type": "code",
   "execution_count": 40,
   "metadata": {},
   "outputs": [
    {
     "data": {
      "text/plain": [
       "2"
      ]
     },
     "execution_count": 40,
     "metadata": {},
     "output_type": "execute_result"
    }
   ],
   "source": [
    "numbers.popleft()"
   ]
  },
  {
   "cell_type": "code",
   "execution_count": 41,
   "metadata": {},
   "outputs": [
    {
     "data": {
      "text/plain": [
       "deque([1, 2, 3, 4])"
      ]
     },
     "execution_count": 41,
     "metadata": {},
     "output_type": "execute_result"
    }
   ],
   "source": [
    "numbers.appendleft(2)\n",
    "numbers.appendleft(1)\n",
    "numbers"
   ]
  },
  {
   "cell_type": "code",
   "execution_count": 42,
   "metadata": {},
   "outputs": [
    {
     "data": {
      "text/plain": [
       "deque([1, 2, 3])"
      ]
     },
     "execution_count": 42,
     "metadata": {},
     "output_type": "execute_result"
    }
   ],
   "source": [
    "from collections import deque\n",
    "# By default , pop delete and return the right last element in the deck\n",
    "numbers = deque([1, 2, 3, 4])\n",
    "numbers.pop()\n",
    "numbers"
   ]
  },
  {
   "cell_type": "markdown",
   "metadata": {},
   "source": [
    "#####  Performance vs list"
   ]
  },
  {
   "cell_type": "code",
   "execution_count": 43,
   "metadata": {},
   "outputs": [
    {
     "name": "stdout",
     "output_type": "stream",
     "text": [
      "list.insert()      2241.45 ns\n",
      "deque.appendleft() 217.23 ns  (10.3183x faster)\n"
     ]
    }
   ],
   "source": [
    "from collections import deque\n",
    "from time import perf_counter\n",
    "\n",
    "TIMES = 10_000\n",
    "a_list = []\n",
    "a_deque = deque()\n",
    "\n",
    "def average_time(func, times):\n",
    "    total = 0.0\n",
    "    for i in range(times):\n",
    "        start = perf_counter()\n",
    "        func(i)\n",
    "        total += (perf_counter() - start) * 1e9\n",
    "    return total / times\n",
    "\n",
    "list_time = average_time(lambda i: a_list.insert(0, i), TIMES)\n",
    "deque_time = average_time(lambda i: a_deque.appendleft(i), TIMES)\n",
    "gain = list_time / deque_time\n",
    "\n",
    "print(f\"list.insert()      {list_time:.6} ns\")\n",
    "print(f\"deque.appendleft() {deque_time:.6} ns  ({gain:.6}x faster)\")"
   ]
  },
  {
   "cell_type": "markdown",
   "metadata": {},
   "source": [
    "##### Accessing Random Items in a deque\n"
   ]
  },
  {
   "cell_type": "markdown",
   "metadata": {},
   "source": [
    " - .insert(i, value) : **Insert an item value into a deque at index i.**\n",
    " - .remove(value)\t: **Remove the first occurrence of value, raising ValueError if the value doesn’t exist.**\n",
    " - a_deque[i]\t: **Retrieve the item at index i from a deque.**\n",
    " - del a_deque[i] : **Remove the item at index i from a deque.**"
   ]
  },
  {
   "cell_type": "code",
   "execution_count": 45,
   "metadata": {},
   "outputs": [
    {
     "data": {
      "text/plain": [
       "deque(['a', 'b', 'c', 'd', 'e'])"
      ]
     },
     "execution_count": 45,
     "metadata": {},
     "output_type": "execute_result"
    }
   ],
   "source": [
    "letters = deque(\"abde\")\n",
    "letters.insert(2, \"c\")\n",
    "letters"
   ]
  },
  {
   "cell_type": "code",
   "execution_count": 46,
   "metadata": {
    "scrolled": true
   },
   "outputs": [
    {
     "data": {
      "text/plain": [
       "deque(['a', 'b', 'c', 'e'])"
      ]
     },
     "execution_count": 46,
     "metadata": {},
     "output_type": "execute_result"
    }
   ],
   "source": [
    "letters.remove(\"d\")\n",
    "letters"
   ]
  },
  {
   "cell_type": "code",
   "execution_count": 47,
   "metadata": {},
   "outputs": [
    {
     "name": "stdout",
     "output_type": "stream",
     "text": [
      "b\n"
     ]
    },
    {
     "data": {
      "text/plain": [
       "deque(['a', 'b', 'e'])"
      ]
     },
     "execution_count": 47,
     "metadata": {},
     "output_type": "execute_result"
    }
   ],
   "source": [
    "print(letters[1])\n",
    "del letters[2]\n",
    "letters"
   ]
  },
  {
   "cell_type": "markdown",
   "metadata": {},
   "source": [
    "##### Building Efficient Queues With deque\n"
   ]
  },
  {
   "cell_type": "code",
   "execution_count": 48,
   "metadata": {},
   "outputs": [],
   "source": [
    "# custom_queue.py\n",
    "\n",
    "from collections import deque\n",
    "\n",
    "class Queue:\n",
    "    def __init__(self):\n",
    "        self._items = deque()\n",
    "\n",
    "    def enqueue(self, item):\n",
    "        self._items.append(item)\n",
    "\n",
    "    def dequeue(self):\n",
    "        try:\n",
    "            return self._items.popleft()\n",
    "        except IndexError:\n",
    "            raise IndexError(\"dequeue from an empty queue\") from None\n",
    "\n",
    "    def __len__(self):\n",
    "        return len(self._items)\n",
    "\n",
    "    def __contains__(self, item):\n",
    "        return item in self._items\n",
    "\n",
    "    def __iter__(self):\n",
    "        yield from self._items\n",
    "\n",
    "    def __reversed__(self):\n",
    "        yield from reversed(self._items)\n",
    "\n",
    "    def __repr__(self):\n",
    "        return f\"Queue({list(self._items)})\""
   ]
  },
  {
   "cell_type": "code",
   "execution_count": 50,
   "metadata": {},
   "outputs": [
    {
     "data": {
      "text/plain": [
       "Queue([1, 2, 3, 4])"
      ]
     },
     "execution_count": 50,
     "metadata": {},
     "output_type": "execute_result"
    }
   ],
   "source": [
    "numbers = Queue()\n",
    "# Enqueue items\n",
    "for number in range(1, 5):\n",
    "    numbers.enqueue(number)\n",
    "\n",
    "numbers"
   ]
  },
  {
   "cell_type": "markdown",
   "metadata": {},
   "source": [
    "#####  Limiting the Maximum Number of Items: maxlen\n"
   ]
  },
  {
   "cell_type": "code",
   "execution_count": 51,
   "metadata": {},
   "outputs": [
    {
     "data": {
      "text/plain": [
       "deque([1, 2, 3, 4])"
      ]
     },
     "execution_count": 51,
     "metadata": {},
     "output_type": "execute_result"
    }
   ],
   "source": [
    "four_numbers = deque([0, 1, 2, 3, 4], maxlen=4) # Discard 0\n",
    "four_numbers"
   ]
  },
  {
   "cell_type": "code",
   "execution_count": 52,
   "metadata": {},
   "outputs": [
    {
     "data": {
      "text/plain": [
       "deque([2, 3, 4, 5])"
      ]
     },
     "execution_count": 52,
     "metadata": {},
     "output_type": "execute_result"
    }
   ],
   "source": [
    "four_numbers.append(5)  # Automatically remove 1\n",
    "four_numbers"
   ]
  },
  {
   "cell_type": "code",
   "execution_count": 53,
   "metadata": {},
   "outputs": [
    {
     "data": {
      "text/plain": [
       "deque([3, 4, 5, 6])"
      ]
     },
     "execution_count": 53,
     "metadata": {},
     "output_type": "execute_result"
    }
   ],
   "source": [
    "four_numbers.append(6)  # Automatically remove 2\n",
    "four_numbers"
   ]
  },
  {
   "cell_type": "code",
   "execution_count": 54,
   "metadata": {},
   "outputs": [
    {
     "data": {
      "text/plain": [
       "deque([2, 3, 4, 5])"
      ]
     },
     "execution_count": 54,
     "metadata": {},
     "output_type": "execute_result"
    }
   ],
   "source": [
    "four_numbers.appendleft(2) # Automatically remove 6\n",
    "four_numbers\n"
   ]
  },
  {
   "cell_type": "markdown",
   "metadata": {},
   "source": [
    "##### Using Sequence-Like Features of deque\n"
   ]
  },
  {
   "cell_type": "code",
   "execution_count": 55,
   "metadata": {},
   "outputs": [
    {
     "data": {
      "text/plain": [
       "deque([1, 2, 2, 3, 4, 4, 5, 6, 7, 8])"
      ]
     },
     "execution_count": 55,
     "metadata": {},
     "output_type": "execute_result"
    }
   ],
   "source": [
    "numbers = deque([1, 2, 2, 3, 4, 4, 5])\n",
    "# Concatenation\n",
    "numbers + deque([6, 7, 8])"
   ]
  },
  {
   "cell_type": "code",
   "execution_count": 56,
   "metadata": {},
   "outputs": [
    {
     "data": {
      "text/plain": [
       "1"
      ]
     },
     "execution_count": 56,
     "metadata": {},
     "output_type": "execute_result"
    }
   ],
   "source": [
    "# Common sequence methods\n",
    "numbers = deque([1, 2, 2, 3, 4, 4, 5])\n",
    "numbers.index(2)"
   ]
  },
  {
   "cell_type": "code",
   "execution_count": 58,
   "metadata": {},
   "outputs": [
    {
     "data": {
      "text/plain": [
       "2"
      ]
     },
     "execution_count": 58,
     "metadata": {},
     "output_type": "execute_result"
    }
   ],
   "source": [
    "numbers.count(4)"
   ]
  },
  {
   "cell_type": "code",
   "execution_count": 59,
   "metadata": {},
   "outputs": [
    {
     "data": {
      "text/plain": [
       "deque([5, 4, 4, 3, 2, 2, 1])"
      ]
     },
     "execution_count": 59,
     "metadata": {},
     "output_type": "execute_result"
    }
   ],
   "source": [
    "numbers.reverse()\n",
    "numbers"
   ]
  },
  {
   "cell_type": "code",
   "execution_count": 60,
   "metadata": {},
   "outputs": [
    {
     "data": {
      "text/plain": [
       "deque([])"
      ]
     },
     "execution_count": 60,
     "metadata": {},
     "output_type": "execute_result"
    }
   ],
   "source": [
    "numbers.clear()\n",
    "numbers"
   ]
  },
  {
   "cell_type": "markdown",
   "metadata": {},
   "source": [
    "##### Exercise Keeping a Page History"
   ]
  },
  {
   "cell_type": "code",
   "execution_count": 62,
   "metadata": {},
   "outputs": [
    {
     "data": {
      "text/plain": [
       "3"
      ]
     },
     "execution_count": 62,
     "metadata": {},
     "output_type": "execute_result"
    }
   ],
   "source": [
    "sites = (\n",
    "    \"google.com\",\n",
    "    \"yahoo.com\",\n",
    "    \"bing.com\"\n",
    ")\n",
    "\n",
    "pages = deque(maxlen=3)\n",
    "pages.maxlen"
   ]
  },
  {
   "cell_type": "code",
   "execution_count": 63,
   "metadata": {},
   "outputs": [
    {
     "data": {
      "text/plain": [
       "deque(['bing.com', 'yahoo.com', 'google.com'])"
      ]
     },
     "execution_count": 63,
     "metadata": {},
     "output_type": "execute_result"
    }
   ],
   "source": [
    "for site in sites:\n",
    "    pages.appendleft(site)\n",
    "pages"
   ]
  },
  {
   "cell_type": "code",
   "execution_count": 65,
   "metadata": {},
   "outputs": [
    {
     "data": {
      "text/plain": [
       "deque(['twitter.com', 'facebook.com', 'bing.com'])"
      ]
     },
     "execution_count": 65,
     "metadata": {},
     "output_type": "execute_result"
    }
   ],
   "source": [
    "pages.appendleft(\"facebook.com\")\n",
    "pages.appendleft(\"twitter.com\")\n",
    "pages"
   ]
  },
  {
   "cell_type": "code",
   "execution_count": null,
   "metadata": {},
   "outputs": [],
   "source": []
  },
  {
   "cell_type": "markdown",
   "metadata": {},
   "source": [
    "## itertools"
   ]
  },
  {
   "cell_type": "code",
   "execution_count": 64,
   "metadata": {},
   "outputs": [],
   "source": [
    "from itertools import count"
   ]
  },
  {
   "cell_type": "code",
   "execution_count": 70,
   "metadata": {},
   "outputs": [
    {
     "data": {
      "text/plain": [
       "count(1)"
      ]
     },
     "execution_count": 70,
     "metadata": {},
     "output_type": "execute_result"
    }
   ],
   "source": [
    "count(1)"
   ]
  },
  {
   "cell_type": "code",
   "execution_count": null,
   "metadata": {},
   "outputs": [],
   "source": []
  },
  {
   "cell_type": "markdown",
   "metadata": {},
   "source": [
    "## OOP"
   ]
  },
  {
   "cell_type": "code",
   "execution_count": 73,
   "metadata": {},
   "outputs": [],
   "source": [
    "Card = namedtuple('Card', ['rank', 'suit'])\n",
    "class FrenchDeck:\n",
    "    ranks = [str(n) for n in range(2, 11)] + list('JQKA')\n",
    "    suits = 'spades diamonds clubs hearts'.split()\n",
    "    def __init__(self):\n",
    "        self._cards = [Card(rank, suit) for suit in self.suits\n",
    "                                         for rank in self.ranks]\n",
    "    \n",
    "    def __len__(self):\n",
    "        return len(self._cards)\n",
    "    def __getitem__(self, position):\n",
    "        return self._cards[position]"
   ]
  },
  {
   "cell_type": "code",
   "execution_count": 74,
   "metadata": {},
   "outputs": [],
   "source": [
    "deck = FrenchDeck()"
   ]
  },
  {
   "cell_type": "code",
   "execution_count": 108,
   "metadata": {},
   "outputs": [],
   "source": [
    "import random\n",
    "class BingoCage:\n",
    "    __slots__ = (\"_items\")\n",
    "    def __init__(self, items):\n",
    "        self._items = list(items) \n",
    "        random.shuffle(self._items) \n",
    "\n",
    "    def pick(self): \n",
    "        try:\n",
    "            return self._items.pop()\n",
    "        except IndexError:\n",
    "            raise LookupError('pick from empty BingoCage') \n",
    "    def __call__(self): \n",
    "        return self.pick()"
   ]
  },
  {
   "cell_type": "code",
   "execution_count": 109,
   "metadata": {},
   "outputs": [
    {
     "data": {
      "text/plain": [
       "10"
      ]
     },
     "execution_count": 109,
     "metadata": {},
     "output_type": "execute_result"
    }
   ],
   "source": [
    "\n",
    "bingo= BingoCage(range(20))\n",
    "bingo()"
   ]
  },
  {
   "cell_type": "code",
   "execution_count": 138,
   "metadata": {},
   "outputs": [],
   "source": [
    "\"\"\"\n",
    "某日，假设你需要一个类，来记录数学考试的分数。但是稍后你就发现了问题：分数为负值是没有意义的。\n",
    "\n",
    "# class Score:\n",
    "#     def __init__(self, math):\n",
    "#         if math < 0:\n",
    "#             raise ValueError('math score must >= 0')\n",
    "#         self.math = math\n",
    "\n",
    "但这样也没解决问题，因为分数虽然在初始化时不能为负，但后续修改时还是可以输入非法值：幸运的是，有内置装饰器 @property 可以解决此问题。\n",
    "\"\"\"\n",
    "class Score:\n",
    "    def __init__(self, math):\n",
    "        self.math = math\n",
    "\n",
    "    @property\n",
    "    def math(self):\n",
    "        # self.math 取值\n",
    "        return self._math\n",
    "\n",
    "    @math.setter\n",
    "    def math(self, value):\n",
    "        # self.math 赋值\n",
    "        if value < 0:\n",
    "            raise ValueError('math score must >= 0')\n",
    "        self._math = value\n",
    "\n"
   ]
  },
  {
   "cell_type": "code",
   "execution_count": 146,
   "metadata": {},
   "outputs": [
    {
     "data": {
      "text/plain": [
       "34"
      ]
     },
     "execution_count": 146,
     "metadata": {},
     "output_type": "execute_result"
    }
   ],
   "source": [
    "score = Score(90)\n",
    "score.math =34\n",
    "score._math"
   ]
  },
  {
   "cell_type": "code",
   "execution_count": 153,
   "metadata": {},
   "outputs": [],
   "source": [
    "# 上面关于赋值检查的 NonNegative 已经展示描述符的其中一种用途了：托管属性并复用代码，保持简洁。\n",
    "\n",
    "\n",
    "class NonNegative:\n",
    "    # 注意这里\n",
    "    # __init__ 也没有了\n",
    "    def __set_name__(self, owner, name):\n",
    "        self.name = name\n",
    "\n",
    "    def __get__(self, instance, owner=None):\n",
    "        return instance.__dict__.get(self.name)\n",
    "\n",
    "    def __set__(self, instance, value):\n",
    "        if value < 0:\n",
    "            raise ValueError(f'{self.name} score must >= 0')\n",
    "        instance.__dict__[self.name] = value\n",
    "\n",
    "\n",
    "class Score:\n",
    "    # NonNegative() 不需要带参数以规定属性名了\n",
    "    math = NonNegative()\n",
    "\n",
    "    def __init__(self, math):\n",
    "        self.math = math"
   ]
  },
  {
   "cell_type": "code",
   "execution_count": 155,
   "metadata": {},
   "outputs": [],
   "source": [
    "score = Score(90)\n",
    "score.math =34\n",
    "# score.math=-1\n",
    "# ValueError: math score must >= 0\n"
   ]
  },
  {
   "cell_type": "code",
   "execution_count": 156,
   "metadata": {},
   "outputs": [],
   "source": [
    "class Cache:\n",
    "    \"\"\"缓存描述符\"\"\"\n",
    "    def __init__(self, func):\n",
    "        self.func = func\n",
    "        self.name = func.__name__\n",
    "\n",
    "    def __get__(self, instance, owner=None):\n",
    "        instance.__dict__[self.name] = self.func(instance)\n",
    "        return instance.__dict__[self.name]\n",
    "\n",
    "\n",
    "from time import sleep\n",
    "\n",
    "class Foo:\n",
    "    @Cache\n",
    "    def bar(self):\n",
    "        sleep(5)\n",
    "        return 'Just sleep 5 sec...'"
   ]
  },
  {
   "cell_type": "code",
   "execution_count": 157,
   "metadata": {},
   "outputs": [
    {
     "data": {
      "text/plain": [
       "'Just sleep 5 sec...'"
      ]
     },
     "execution_count": 157,
     "metadata": {},
     "output_type": "execute_result"
    }
   ],
   "source": [
    "foo = Foo()\n",
    "foo.bar"
   ]
  },
  {
   "cell_type": "markdown",
   "metadata": {},
   "source": [
    ">Validator"
   ]
  },
  {
   "cell_type": "code",
   "execution_count": 168,
   "metadata": {},
   "outputs": [],
   "source": [
    "from abc import ABC, abstractmethod\n",
    "\n",
    "class Validator(ABC):\n",
    "    \"\"\"验证器抽象基类\"\"\"\n",
    "    def __set_name__(self, owner, name):\n",
    "        self.private_name = '_' + name\n",
    "\n",
    "    def __get__(self, instance, owner=None):\n",
    "        return getattr(instance, self.private_name)\n",
    "\n",
    "    def __set__(self, instance, value):\n",
    "        self.validate(value)\n",
    "        setattr(instance, self.private_name, value)\n",
    "\n",
    "    @abstractmethod\n",
    "    def validate(self, value):\n",
    "        pass"
   ]
  },
  {
   "cell_type": "code",
   "execution_count": 169,
   "metadata": {},
   "outputs": [],
   "source": [
    "class OneOf(Validator):\n",
    "    \"\"\"字符串单选验证器\"\"\"\n",
    "    def __init__(self, *options):\n",
    "        self.options = set(options)\n",
    "\n",
    "    def validate(self, value):\n",
    "        if value not in self.options:\n",
    "            raise ValueError(f'Expected {value!r} to be one of {self.options!r}')\n",
    "\n",
    "class Number(Validator):\n",
    "    \"\"\"数值类型验证器\"\"\"\n",
    "    def validate(self, value):\n",
    "        if not isinstance(value, (int, float)):\n",
    "            raise TypeError(f'Expected {value!r} to be an int or float')"
   ]
  },
  {
   "cell_type": "code",
   "execution_count": 170,
   "metadata": {},
   "outputs": [],
   "source": [
    "class Component:\n",
    "    kind     = OneOf('wood', 'metal', 'plastic')\n",
    "    quantity = Number()\n",
    "\n",
    "    def __init__(self, kind, quantity):\n",
    "        self.kind     = kind\n",
    "        self.quantity = quantity"
   ]
  },
  {
   "cell_type": "code",
   "execution_count": 173,
   "metadata": {},
   "outputs": [
    {
     "data": {
      "text/plain": [
       "'wood'"
      ]
     },
     "execution_count": 173,
     "metadata": {},
     "output_type": "execute_result"
    }
   ],
   "source": [
    "# Component('abc', 100) # ValueError                                \n",
    "c = Component('wood', 100)\n",
    "c.kind"
   ]
  },
  {
   "cell_type": "markdown",
   "metadata": {},
   "source": [
    "## Cache"
   ]
  },
  {
   "cell_type": "code",
   "execution_count": 160,
   "metadata": {},
   "outputs": [],
   "source": [
    "from functools import lru_cache\n",
    "@lru_cache(maxsize=None)\n",
    "def fib(n):\n",
    "    if n < 2:\n",
    "        return n\n",
    "    return fib(n-1) + fib(n-2)"
   ]
  },
  {
   "cell_type": "code",
   "execution_count": null,
   "metadata": {},
   "outputs": [],
   "source": []
  },
  {
   "cell_type": "markdown",
   "metadata": {},
   "source": [
    "## Dict"
   ]
  },
  {
   "cell_type": "code",
   "execution_count": 117,
   "metadata": {},
   "outputs": [],
   "source": [
    "from collections.abc import MutableMapping\n",
    "\n",
    "class MyDict(MutableMapping):\n",
    "    def __init__(self, **kwargs):\n",
    "        self.data = kwargs\n",
    "\n",
    "    def __getitem__(self, key):\n",
    "        return self.data[key]\n",
    "\n",
    "    def __delitem__(self, key):\n",
    "        del self.data[key]\n",
    "\n",
    "    def __setitem__(self, key, value):\n",
    "        self.data[key] = value\n",
    "\n",
    "    def __iter__(self):\n",
    "        return iter(self.data)\n",
    "\n",
    "    def __len__(self):\n",
    "        return len(self.data)\n",
    "\n",
    "    def __repr__(self):\n",
    "        return repr(self.data)"
   ]
  },
  {
   "cell_type": "code",
   "execution_count": 118,
   "metadata": {
    "scrolled": true
   },
   "outputs": [
    {
     "data": {
      "text/plain": [
       "{'a': 1, 'c': 3, 'd': 4}"
      ]
     },
     "execution_count": 118,
     "metadata": {},
     "output_type": "execute_result"
    }
   ],
   "source": [
    "my_dict = MyDict(a=1, b=2)\n",
    "my_dict.update(c=3)\n",
    "my_dict['d'] = 4\n",
    "my_dict.pop('b')\n",
    "\n",
    "my_dict"
   ]
  },
  {
   "cell_type": "code",
   "execution_count": 120,
   "metadata": {},
   "outputs": [
    {
     "data": {
      "text/plain": [
       "{'a': 10, 'b': 20}"
      ]
     },
     "execution_count": 120,
     "metadata": {},
     "output_type": "execute_result"
    }
   ],
   "source": [
    "# UserDict 将整个数据结构及方法都默认实现了，要改哪个行为，直接覆写对应的方法就好了，很方便。\n",
    "\n",
    "from collections import UserDict\n",
    "\n",
    "class MyDict(UserDict):\n",
    "    def __setitem__(self, key, value):\n",
    "        super().__setitem__(key, value * 10)\n",
    "\n",
    "\n",
    "my_dict = MyDict(a=1, b=2)\n",
    "my_dict"
   ]
  },
  {
   "cell_type": "code",
   "execution_count": 123,
   "metadata": {},
   "outputs": [
    {
     "data": {
      "text/plain": [
       "Counter({1: 3, 2: 1, 3: 1})"
      ]
     },
     "execution_count": 123,
     "metadata": {},
     "output_type": "execute_result"
    }
   ],
   "source": [
    "a = [1,1,1,2,3]\n",
    "Counter(a)"
   ]
  },
  {
   "cell_type": "code",
   "execution_count": 128,
   "metadata": {},
   "outputs": [],
   "source": [
    "def foo(container):\n",
    "    data = []\n",
    "    for item in container:\n",
    "        data.append(item * 10)\n",
    "    same_cls = type(container)\n",
    "    return same_cls(data)\n"
   ]
  },
  {
   "cell_type": "code",
   "execution_count": 129,
   "metadata": {},
   "outputs": [
    {
     "name": "stdout",
     "output_type": "stream",
     "text": [
      "[10, 20]\n",
      "(30, 40)\n",
      "{50, 60}\n"
     ]
    }
   ],
   "source": [
    "a = [1, 2]\n",
    "b = (3, 4)\n",
    "c = set([5, 6])\n",
    "\n",
    "for item in [a, b, c]:\n",
    "    print(foo(item))"
   ]
  },
  {
   "cell_type": "code",
   "execution_count": null,
   "metadata": {},
   "outputs": [],
   "source": []
  }
 ],
 "metadata": {
  "kernelspec": {
   "display_name": "Python 3",
   "language": "python",
   "name": "python3"
  },
  "language_info": {
   "codemirror_mode": {
    "name": "ipython",
    "version": 3
   },
   "file_extension": ".py",
   "mimetype": "text/x-python",
   "name": "python",
   "nbconvert_exporter": "python",
   "pygments_lexer": "ipython3",
   "version": "3.7.6"
  }
 },
 "nbformat": 4,
 "nbformat_minor": 4
}
