{
 "cells": [
  {
   "cell_type": "code",
   "execution_count": 37,
   "metadata": {},
   "outputs": [],
   "source": [
    "import pandas as pd\n",
    "import numpy as np\n",
    "import h5py\n",
    "import os\n",
    "from pandas import HDFStore\n",
    "from datetime import datetime,timedelta,date\n",
    "from dataclasses import dataclass\n",
    "from typing import Any\n",
    "from collections import defaultdict"
   ]
  },
  {
   "cell_type": "code",
   "execution_count": 38,
   "metadata": {},
   "outputs": [],
   "source": [
    "def get_n_days_ago(n=0,time_format=\"%d-%m-%Y\"):\n",
    "    time_stamp = datetime.now()-timedelta(days=n)\n",
    "    return time_stamp.strftime(time_format)"
   ]
  },
  {
   "cell_type": "code",
   "execution_count": 57,
   "metadata": {},
   "outputs": [
    {
     "data": {
      "text/plain": [
       "'20210923_112539'"
      ]
     },
     "execution_count": 57,
     "metadata": {},
     "output_type": "execute_result"
    }
   ],
   "source": [
    "datetime.now().strftime(\"%Y%m%d_%H%M%S\")"
   ]
  },
  {
   "cell_type": "code",
   "execution_count": 2,
   "metadata": {},
   "outputs": [],
   "source": [
    "def get_mem_usage(df):\n",
    "    print(f\"{df.memory_usage(deep=True).sum()/1024 **2:3.2f}Mb\")"
   ]
  },
  {
   "cell_type": "code",
   "execution_count": 3,
   "metadata": {},
   "outputs": [],
   "source": [
    "os.chdir('C:\\\\Users\\\\attra')"
   ]
  },
  {
   "cell_type": "code",
   "execution_count": 4,
   "metadata": {},
   "outputs": [
    {
     "data": {
      "text/html": [
       "<div>\n",
       "<style scoped>\n",
       "    .dataframe tbody tr th:only-of-type {\n",
       "        vertical-align: middle;\n",
       "    }\n",
       "\n",
       "    .dataframe tbody tr th {\n",
       "        vertical-align: top;\n",
       "    }\n",
       "\n",
       "    .dataframe thead th {\n",
       "        text-align: right;\n",
       "    }\n",
       "</style>\n",
       "<table border=\"1\" class=\"dataframe\">\n",
       "  <thead>\n",
       "    <tr style=\"text-align: right;\">\n",
       "      <th></th>\n",
       "      <th>emp_id</th>\n",
       "      <th>first_name</th>\n",
       "      <th>last_name</th>\n",
       "      <th>hire_date</th>\n",
       "    </tr>\n",
       "  </thead>\n",
       "  <tbody>\n",
       "    <tr>\n",
       "      <th>0</th>\n",
       "      <td>100</td>\n",
       "      <td>Steven</td>\n",
       "      <td>King</td>\n",
       "      <td>2003-06-17</td>\n",
       "    </tr>\n",
       "    <tr>\n",
       "      <th>1</th>\n",
       "      <td>101</td>\n",
       "      <td>Neena</td>\n",
       "      <td>Kochhar</td>\n",
       "      <td>2005-09-21</td>\n",
       "    </tr>\n",
       "    <tr>\n",
       "      <th>2</th>\n",
       "      <td>102</td>\n",
       "      <td>Lex</td>\n",
       "      <td>De Haan</td>\n",
       "      <td>2001-01-13</td>\n",
       "    </tr>\n",
       "    <tr>\n",
       "      <th>3</th>\n",
       "      <td>103</td>\n",
       "      <td>Alexander</td>\n",
       "      <td>Hunold</td>\n",
       "      <td>2006-01-03</td>\n",
       "    </tr>\n",
       "    <tr>\n",
       "      <th>4</th>\n",
       "      <td>104</td>\n",
       "      <td>Bruce</td>\n",
       "      <td>Ernst</td>\n",
       "      <td>2007-05-21</td>\n",
       "    </tr>\n",
       "    <tr>\n",
       "      <th>5</th>\n",
       "      <td>105</td>\n",
       "      <td>David</td>\n",
       "      <td>Austin</td>\n",
       "      <td>2005-06-25</td>\n",
       "    </tr>\n",
       "    <tr>\n",
       "      <th>6</th>\n",
       "      <td>106</td>\n",
       "      <td>Valli</td>\n",
       "      <td>Pataballa</td>\n",
       "      <td>2006-02-05</td>\n",
       "    </tr>\n",
       "    <tr>\n",
       "      <th>7</th>\n",
       "      <td>107</td>\n",
       "      <td>Diana</td>\n",
       "      <td>Lorentz</td>\n",
       "      <td>2007-02-07</td>\n",
       "    </tr>\n",
       "    <tr>\n",
       "      <th>8</th>\n",
       "      <td>108</td>\n",
       "      <td>Nancy</td>\n",
       "      <td>Greenberg</td>\n",
       "      <td>2002-08-17</td>\n",
       "    </tr>\n",
       "    <tr>\n",
       "      <th>9</th>\n",
       "      <td>109</td>\n",
       "      <td>Daniel</td>\n",
       "      <td>Faviet</td>\n",
       "      <td>2002-08-16</td>\n",
       "    </tr>\n",
       "    <tr>\n",
       "      <th>10</th>\n",
       "      <td>110</td>\n",
       "      <td>John</td>\n",
       "      <td>Chen</td>\n",
       "      <td>2005-09-28</td>\n",
       "    </tr>\n",
       "    <tr>\n",
       "      <th>11</th>\n",
       "      <td>111</td>\n",
       "      <td>Ismael</td>\n",
       "      <td>Sciarra</td>\n",
       "      <td>2005-09-30</td>\n",
       "    </tr>\n",
       "    <tr>\n",
       "      <th>12</th>\n",
       "      <td>112</td>\n",
       "      <td>Jose Manuel</td>\n",
       "      <td>Urman</td>\n",
       "      <td>2006-03-07</td>\n",
       "    </tr>\n",
       "    <tr>\n",
       "      <th>13</th>\n",
       "      <td>113</td>\n",
       "      <td>Luis</td>\n",
       "      <td>Popp</td>\n",
       "      <td>2007-12-07</td>\n",
       "    </tr>\n",
       "    <tr>\n",
       "      <th>14</th>\n",
       "      <td>114</td>\n",
       "      <td>Den</td>\n",
       "      <td>Raphaely</td>\n",
       "      <td>2002-12-07</td>\n",
       "    </tr>\n",
       "    <tr>\n",
       "      <th>15</th>\n",
       "      <td>115</td>\n",
       "      <td>Alexander</td>\n",
       "      <td>Khoo</td>\n",
       "      <td>2003-05-18</td>\n",
       "    </tr>\n",
       "    <tr>\n",
       "      <th>16</th>\n",
       "      <td>116</td>\n",
       "      <td>Shelli</td>\n",
       "      <td>Baida</td>\n",
       "      <td>2005-12-24</td>\n",
       "    </tr>\n",
       "    <tr>\n",
       "      <th>17</th>\n",
       "      <td>117</td>\n",
       "      <td>Sigal</td>\n",
       "      <td>Tobias</td>\n",
       "      <td>2005-07-24</td>\n",
       "    </tr>\n",
       "    <tr>\n",
       "      <th>18</th>\n",
       "      <td>118</td>\n",
       "      <td>Guy</td>\n",
       "      <td>Himuro</td>\n",
       "      <td>2006-11-15</td>\n",
       "    </tr>\n",
       "    <tr>\n",
       "      <th>19</th>\n",
       "      <td>119</td>\n",
       "      <td>Karen</td>\n",
       "      <td>Colmenares</td>\n",
       "      <td>2007-08-10</td>\n",
       "    </tr>\n",
       "  </tbody>\n",
       "</table>\n",
       "</div>"
      ],
      "text/plain": [
       "    emp_id   first_name   last_name  hire_date\n",
       "0      100       Steven        King 2003-06-17\n",
       "1      101        Neena     Kochhar 2005-09-21\n",
       "2      102          Lex     De Haan 2001-01-13\n",
       "3      103    Alexander      Hunold 2006-01-03\n",
       "4      104        Bruce       Ernst 2007-05-21\n",
       "5      105        David      Austin 2005-06-25\n",
       "6      106        Valli   Pataballa 2006-02-05\n",
       "7      107        Diana     Lorentz 2007-02-07\n",
       "8      108        Nancy   Greenberg 2002-08-17\n",
       "9      109       Daniel      Faviet 2002-08-16\n",
       "10     110         John        Chen 2005-09-28\n",
       "11     111       Ismael     Sciarra 2005-09-30\n",
       "12     112  Jose Manuel       Urman 2006-03-07\n",
       "13     113         Luis        Popp 2007-12-07\n",
       "14     114          Den    Raphaely 2002-12-07\n",
       "15     115    Alexander        Khoo 2003-05-18\n",
       "16     116       Shelli       Baida 2005-12-24\n",
       "17     117        Sigal      Tobias 2005-07-24\n",
       "18     118          Guy      Himuro 2006-11-15\n",
       "19     119        Karen  Colmenares 2007-08-10"
      ]
     },
     "execution_count": 4,
     "metadata": {},
     "output_type": "execute_result"
    }
   ],
   "source": [
    "employe = pd.read_excel('employee.xlsx')\n",
    "employe"
   ]
  },
  {
   "cell_type": "code",
   "execution_count": 5,
   "metadata": {},
   "outputs": [],
   "source": [
    "numbers = pd.DataFrame(np.random.rand(10_000_000,4),columns=['col_1','col_2','col_3','col_4'])"
   ]
  },
  {
   "cell_type": "code",
   "execution_count": 6,
   "metadata": {},
   "outputs": [
    {
     "data": {
      "text/plain": [
       "'F:\\\\Data'"
      ]
     },
     "execution_count": 6,
     "metadata": {},
     "output_type": "execute_result"
    }
   ],
   "source": [
    "import os\n",
    "os.chdir('F:\\\\Data')\n",
    "os.getcwd()"
   ]
  },
  {
   "cell_type": "code",
   "execution_count": 85,
   "metadata": {},
   "outputs": [],
   "source": [
    "\n",
    "class MyHDF5:\n",
    "    \n",
    "    current_path = os.getcwd()\n",
    "    cursor =  Any\n",
    "    zip_level = 0\n",
    "    hdf5_name = \"\"\n",
    "    def __init__(self,name:str,path:str = None,compressed_level:int = 0) -> pd.HDFStore:\n",
    "        \n",
    "        self.hdf5_name = f\"{name}.h5\"\n",
    "        if compressed_level:\n",
    "            self.zip_level = compressed_level\n",
    "        if path:\n",
    "            os.chdir(path)\n",
    "            self.cursor = pd.HDFStore(self.hdf5_name,complevel=self.zip_level)\n",
    "            os.chdir(self.current_path)\n",
    "        self.cursor = pd.HDFStore(self.hdf5_name,complevel=self.zip_level)\n",
    "        print(self.cursor.info())       \n",
    "        \n",
    "    def insert_df(self,key,df,timestamp=False):\n",
    "        data_location = key\n",
    "        if timestamp==True:\n",
    "            time_label = datetime.now().strftime(\"%Y%m%d_%H%M%S\")\n",
    "#             time_label = datetime.now().strftime(\"%Y%m%d\")\n",
    "            data_location=f\"{key}/{time_label}\"\n",
    "            \n",
    "        try:\n",
    "            print(\"Inserting...\")\n",
    "            self.cursor.put(key=data_location,value=df)\n",
    "            print(f\"Insert df success, key: <<{data_location}>>, dataset size: {get_mem_usage(df)}\")\n",
    "        except Exception as e:\n",
    "            pass\n",
    "#             print(e)\n",
    "\n",
    "            \n",
    "    def extract_data(self,key):\n",
    "        return self.cursor[key]\n",
    "    \n",
    "    def remove_data(self,key):\n",
    "        try:\n",
    "            del self.cursor[key]\n",
    "            print(f\"Remove dataset {key} success\")\n",
    "        except KeyError:\n",
    "            raise KeyError(f\"{key} not found\")\n",
    "    def append_df(self,key,df:pd.DataFrame):\n",
    "        self.cursor[key] = pd.concat([self.cursor[key],df])\n",
    "        \n",
    "        \n",
    "    \n",
    "    def __repr__(self)->None:\n",
    "        return(self.cursor.info())\n",
    "    \n",
    "    def is_open(self)->bool:\n",
    "        return self.cursor.is_open\n",
    "    \n",
    "    @property\n",
    "    def keys(self)->list:\n",
    "        return sorted(list(self.cursor.keys()))\n",
    "    \n",
    "    def __getitem__(self,key:str)->\"dataset\":\n",
    "        return self.cursor[key]\n",
    "        \n",
    "    def __setitem__(self,key,value)->None:\n",
    "        self.cursor[key]=value\n",
    "    \n",
    "    def __delitem__(self,key)->None:\n",
    "        del self.cursor[key]\n",
    "    \n",
    "    def __contains__(self, key: str) -> bool:\n",
    "        \"\"\"\n",
    "        check for existence of this key\n",
    "        can match the exact pathname or the pathnm w/o the leading '/'\n",
    "        \"\"\"\n",
    "        node = self.cursor.get_node(key)\n",
    "        if node is not None:\n",
    "            name = node._v_pathname\n",
    "            if name == key or name[1:] == key:\n",
    "                return True\n",
    "        return False\n",
    "    \n",
    "    def __len__(self) -> int:\n",
    "        return len(self.cursor.groups())\n",
    "    \n",
    "    def items(self):\n",
    "        \"\"\"\n",
    "        iterate on key->group\n",
    "        \"\"\"\n",
    "        for g in self.cursor.groups():\n",
    "            yield g._v_pathname, g\n",
    "            \n",
    "    def close(self)->None:\n",
    "        try:\n",
    "            self.cursor.close()\n",
    "            print(\"Close success\")\n",
    "        except Exception as e:\n",
    "            print(e)\n",
    "            \n",
    "    def check_groups(self)->list:\n",
    "        return self.cursor.groups()\n",
    "    \n",
    "    def destroy(self):\n",
    "        if self.is_open():\n",
    "            print(\"Close connection...\")\n",
    "            self.close()\n",
    "        \n",
    "        print(f\"Destroy << {self.hdf5_name}>>... \")\n",
    "        os.remove(f\"{self.hdf5_name}\")\n",
    "        print(\"Finish\")\n",
    "            \n",
    "            "
   ]
  },
  {
   "cell_type": "code",
   "execution_count": 86,
   "metadata": {},
   "outputs": [
    {
     "name": "stdout",
     "output_type": "stream",
     "text": [
      "<class 'pandas.io.pytables.HDFStore'>\n",
      "File path: new.h5.h5\n",
      "/test1                     frame        (shape->[20,4])\n",
      "/test1/20210923            frame        (shape->[20,4])\n"
     ]
    }
   ],
   "source": [
    "a = MyHDF5('new.h5')"
   ]
  },
  {
   "cell_type": "code",
   "execution_count": 87,
   "metadata": {},
   "outputs": [],
   "source": [
    "a['test1']=employe"
   ]
  },
  {
   "cell_type": "code",
   "execution_count": 88,
   "metadata": {},
   "outputs": [],
   "source": [
    "# t_hdf.destroy()"
   ]
  },
  {
   "cell_type": "code",
   "execution_count": 92,
   "metadata": {},
   "outputs": [
    {
     "data": {
      "text/plain": [
       "['/test1', '/test1/20210923_114247']"
      ]
     },
     "execution_count": 92,
     "metadata": {},
     "output_type": "execute_result"
    }
   ],
   "source": [
    "a.keys"
   ]
  },
  {
   "cell_type": "code",
   "execution_count": 13,
   "metadata": {},
   "outputs": [
    {
     "data": {
      "text/plain": [
       "20"
      ]
     },
     "execution_count": 13,
     "metadata": {},
     "output_type": "execute_result"
    }
   ],
   "source": [
    "len(t_hdf['employe'])"
   ]
  },
  {
   "cell_type": "code",
   "execution_count": 14,
   "metadata": {},
   "outputs": [],
   "source": [
    "t_hdf.append_df('employe',employe)"
   ]
  },
  {
   "cell_type": "code",
   "execution_count": 15,
   "metadata": {},
   "outputs": [
    {
     "data": {
      "text/plain": [
       "40"
      ]
     },
     "execution_count": 15,
     "metadata": {},
     "output_type": "execute_result"
    }
   ],
   "source": [
    "len(t_hdf['employe'])"
   ]
  },
  {
   "cell_type": "code",
   "execution_count": 16,
   "metadata": {},
   "outputs": [
    {
     "name": "stdout",
     "output_type": "stream",
     "text": [
      "Close success\n"
     ]
    }
   ],
   "source": [
    "t_hdf.close()"
   ]
  },
  {
   "cell_type": "code",
   "execution_count": null,
   "metadata": {},
   "outputs": [],
   "source": []
  }
 ],
 "metadata": {
  "kernelspec": {
   "display_name": "Python 3",
   "language": "python",
   "name": "python3"
  },
  "language_info": {
   "codemirror_mode": {
    "name": "ipython",
    "version": 3
   },
   "file_extension": ".py",
   "mimetype": "text/x-python",
   "name": "python",
   "nbconvert_exporter": "python",
   "pygments_lexer": "ipython3",
   "version": "3.7.6"
  }
 },
 "nbformat": 4,
 "nbformat_minor": 4
}
