{
 "cells": [
  {
   "cell_type": "markdown",
   "metadata": {},
   "source": [
    "## Itertools in Python 3, By Example\n"
   ]
  },
  {
   "cell_type": "markdown",
   "metadata": {},
   "source": [
    "## count 功能详解\n",
    "count(start=0,step=1) 函数有两个参数，其中 step 是默认参数，可选的，默认值为 1。 该函数返回一个新的迭代器，从 start 开始，返回以 step 为步长的均匀间隔的值。"
   ]
  },
  {
   "cell_type": "code",
   "execution_count": 9,
   "metadata": {},
   "outputs": [
    {
     "name": "stdout",
     "output_type": "stream",
     "text": [
      "0\n",
      "1\n",
      "2\n",
      "3\n",
      "4\n"
     ]
    }
   ],
   "source": [
    "import itertools\n",
    "nums  = itertools.count()\n",
    "for i in nums:\n",
    "    if i > 4:\n",
    "        break\n",
    "    print(i)"
   ]
  },
  {
   "cell_type": "code",
   "execution_count": 12,
   "metadata": {},
   "outputs": [
    {
     "name": "stdout",
     "output_type": "stream",
     "text": [
      "10\n",
      "12\n",
      "14\n"
     ]
    }
   ],
   "source": [
    "nums = itertools.count(10, 2)\n",
    "for i in nums:\n",
    "    if i>14:\n",
    "        break\n",
    "    print(i)"
   ]
  },
  {
   "cell_type": "markdown",
   "metadata": {},
   "source": [
    "## cycle 功能详解\n",
    "cycle(iterable) 该函数会把接收到的序列无限重复下去。"
   ]
  },
  {
   "cell_type": "code",
   "execution_count": 18,
   "metadata": {},
   "outputs": [
    {
     "name": "stdout",
     "output_type": "stream",
     "text": [
      "A\n",
      "B\n",
      "C\n",
      "A\n",
      "B\n",
      "C\n",
      "A\n"
     ]
    }
   ],
   "source": [
    "cycle_strings = itertools.cycle('ABC')\n",
    "i = 1\n",
    "for string in cycle_strings:\n",
    "    if i == 8:\n",
    "        break\n",
    "    print(string)\n",
    "    i += 1"
   ]
  },
  {
   "cell_type": "markdown",
   "metadata": {},
   "source": [
    "## repeat 功能详解\n",
    "repeat(object, times) 该函数创建一个迭代器，不断的重复 object，当然如果指定 times 的话，则只会重复 times 次"
   ]
  },
  {
   "cell_type": "code",
   "execution_count": 21,
   "metadata": {},
   "outputs": [
    {
     "name": "stdout",
     "output_type": "stream",
     "text": [
      "AB\n",
      "AB\n",
      "AB\n"
     ]
    }
   ],
   "source": [
    "ns = itertools.repeat('AB', 3)\n",
    "for n in ns:\n",
    "    print(n)"
   ]
  },
  {
   "cell_type": "markdown",
   "metadata": {},
   "source": [
    "## chain()\n",
    "chain()可以把一组迭代对象串联起来，形成一个更大的迭代器："
   ]
  },
  {
   "cell_type": "code",
   "execution_count": 28,
   "metadata": {},
   "outputs": [
    {
     "name": "stdout",
     "output_type": "stream",
     "text": [
      "['a', 'b', 'c', 'x', 'y', 'z']\n"
     ]
    }
   ],
   "source": [
    "import itertools\n",
    "x = itertools.chain(\"abc\", \"xyz\")\n",
    "print(list(x))\n"
   ]
  },
  {
   "cell_type": "markdown",
   "metadata": {},
   "source": [
    "## groupby()\n",
    "groupby()把迭代器中相邻的重复元素挑出来放在一起："
   ]
  },
  {
   "cell_type": "code",
   "execution_count": 29,
   "metadata": {},
   "outputs": [
    {
     "name": "stdout",
     "output_type": "stream",
     "text": [
      "A ['A', 'A', 'A']\n",
      "B ['B', 'B', 'B']\n",
      "C ['C', 'C']\n",
      "A ['A', 'A', 'A']\n"
     ]
    }
   ],
   "source": [
    "for key, group in itertools.groupby('AAABBBCCAAA'):\n",
    "    print(key, list(group))"
   ]
  },
  {
   "cell_type": "code",
   "execution_count": 30,
   "metadata": {},
   "outputs": [
    {
     "name": "stdout",
     "output_type": "stream",
     "text": [
      "A [81, 82, 84]\n",
      "B [76, 64, 78]\n",
      "C [59, 44, 55]\n",
      "A [89]\n"
     ]
    }
   ],
   "source": [
    "import itertools\n",
    "def sortBy(score):\n",
    "    if score > 80:\n",
    "        return \"A\"\n",
    "    elif score >= 60:\n",
    "        return \"B\"\n",
    "    else:\n",
    "        return \"C\"\n",
    "\n",
    "scores = [81, 82, 84, 76, 64, 78, 59, 44, 55, 89]\n",
    "for m, n in itertools.groupby(scores, key=sortBy):\n",
    "\tprint(m, list(n))"
   ]
  },
  {
   "cell_type": "markdown",
   "metadata": {},
   "source": [
    "我们可以看到，该函数根据我们自定义的排序函数 sortBy 将列表中的元素进行了分组操作，只是我们发现最后一个怎么多了一个 A 的分组呢，这就是我们上面说所得「当 key 函数的返回值改变时，迭代器就会生成一个新的分组」。所以，我们需要事先对列表用 sortBy 函数排一下序。"
   ]
  },
  {
   "cell_type": "code",
   "execution_count": 34,
   "metadata": {},
   "outputs": [
    {
     "name": "stdout",
     "output_type": "stream",
     "text": [
      "[81, 82, 84, 89, 76, 64, 78, 59, 44, 55]\n",
      "A [81, 82, 84, 89]\n",
      "B [76, 64, 78]\n",
      "C [59, 44, 55]\n"
     ]
    }
   ],
   "source": [
    "scores = [81, 82, 84, 76, 64, 78, 59, 44, 55, 89]\n",
    "scores = sorted(scores, key=sortBy)\n",
    "print(scores)\n",
    "for m, n in itertools.groupby(scores, key=sortBy):\n",
    "    print(m, list(n))"
   ]
  },
  {
   "cell_type": "markdown",
   "metadata": {},
   "source": [
    "## compress 功能详解\n",
    "compress(data, selectors) 该函数功能很简单，就是根据 selectors 中的值判断是否保留 data 中对应位置的值。"
   ]
  },
  {
   "cell_type": "code",
   "execution_count": 35,
   "metadata": {},
   "outputs": [
    {
     "name": "stdout",
     "output_type": "stream",
     "text": [
      "[81, 82, 76, 64]\n"
     ]
    }
   ],
   "source": [
    "data = [81, 82, 84, 76, 64, 78]\n",
    "tf = [1,1,0,1,1,0]\n",
    "print(list(itertools.compress(data, tf)))\n"
   ]
  },
  {
   "cell_type": "markdown",
   "metadata": {},
   "source": [
    "## filterfalse 功能详解\n",
    "filterfalse(predicate, iterable) 创建一个迭代器，返回 iterable 中 predicate 为 false 的元素。"
   ]
  },
  {
   "cell_type": "code",
   "execution_count": 36,
   "metadata": {},
   "outputs": [
    {
     "name": "stdout",
     "output_type": "stream",
     "text": [
      "[5, 7]\n"
     ]
    }
   ],
   "source": [
    "import itertools\n",
    "x = itertools.filterfalse(lambda x: x < 5, [1,3,5,7,4,2,1])\n",
    "print(list(x))"
   ]
  },
  {
   "cell_type": "markdown",
   "metadata": {},
   "source": [
    "## islice 功能详解\n",
    "islice(iterable, start, stop[, step]) 对 iterable 进行切片操作。从 start 开始到 stop 截止，同时支持以步长为 step 的跳跃。"
   ]
  },
  {
   "cell_type": "code",
   "execution_count": 37,
   "metadata": {},
   "outputs": [
    {
     "name": "stdout",
     "output_type": "stream",
     "text": [
      "['1', '2']\n",
      "['3', '4']\n",
      "['3', '4', '5', '6', '7', '8', '9']\n",
      "['1', '3', '5', '7', '9']\n"
     ]
    }
   ],
   "source": [
    "import itertools\n",
    "print(list(itertools.islice('123456789', 2)))\n",
    "print(list(itertools.islice('123456789', 2, 4)))\n",
    "print(list(itertools.islice('123456789', 2, None)))\n",
    "print(list(itertools.islice('123456789', 0, None, 2)))"
   ]
  },
  {
   "cell_type": "markdown",
   "metadata": {},
   "source": [
    "## dropwhile 功能详解\n",
    "dropwhile(predicate, iterable) 创建一个迭代器，从 predicate 首次为 false 时开始迭代元素。"
   ]
  },
  {
   "cell_type": "code",
   "execution_count": 38,
   "metadata": {},
   "outputs": [
    {
     "name": "stdout",
     "output_type": "stream",
     "text": [
      "[5, 7, 4, 2, 1]\n"
     ]
    }
   ],
   "source": [
    "import itertools\n",
    "x = itertools.dropwhile(lambda x: x < 5, [1,3,5,7,4,2,1])\n",
    "print(list(x))"
   ]
  },
  {
   "cell_type": "markdown",
   "metadata": {},
   "source": [
    "## takewhile 功能详解\n",
    "takewhile(predicate, iterable) 创建一个迭代器，遇到 predicate 为 false 则停止迭代元素。与 dropwhile 完全相反。"
   ]
  },
  {
   "cell_type": "code",
   "execution_count": 39,
   "metadata": {},
   "outputs": [
    {
     "name": "stdout",
     "output_type": "stream",
     "text": [
      "[1, 3]\n"
     ]
    }
   ],
   "source": [
    "import itertools\n",
    "x = itertools.takewhile(lambda x: x < 5, [1,3,5,7,4,2,1])\n",
    "print(list(x))"
   ]
  },
  {
   "cell_type": "markdown",
   "metadata": {},
   "source": [
    "## permutations 功能详解\n",
    "permutations(iterable, r=None) 返回 iterable 中长度为 r 的所有排列。默认值 r 为 iterable 的长度。即使元素的值相同，不同位置的元素也被认为是不同的。"
   ]
  },
  {
   "cell_type": "code",
   "execution_count": 40,
   "metadata": {},
   "outputs": [
    {
     "name": "stdout",
     "output_type": "stream",
     "text": [
      "[('a', 'b'), ('a', 'a'), ('b', 'a'), ('b', 'a'), ('a', 'a'), ('a', 'b')]\n"
     ]
    }
   ],
   "source": [
    "print(list(itertools.permutations(\"aba\", r=2)))"
   ]
  },
  {
   "cell_type": "markdown",
   "metadata": {},
   "source": [
    "## combinations 功能详解\n",
    "combinations(iterable, r=None) 返回 iterable 中长度为 r 的有序排列。默认值 r 为 iterable 的长度。 与 permutations 操作不同的是该函数严格按照 iterable 中元素的顺序进行排列。"
   ]
  },
  {
   "cell_type": "code",
   "execution_count": 41,
   "metadata": {},
   "outputs": [
    {
     "name": "stdout",
     "output_type": "stream",
     "text": [
      "[('a', 'b'), ('a', 'c'), ('b', 'c')]\n"
     ]
    }
   ],
   "source": [
    "print(list(itertools.combinations(\"abc\", r=2)))"
   ]
  },
  {
   "cell_type": "markdown",
   "metadata": {},
   "source": [
    "## combinations_with_replacement \n",
    "combinations_with_replacement(iterable, r=None) 返回 iterable 中长度为 r 的有序排列。默认值 r 为 iterable 的长度。 与 combinations 操作不同的是该函数允许每个元素重复出现。"
   ]
  },
  {
   "cell_type": "code",
   "execution_count": 42,
   "metadata": {},
   "outputs": [
    {
     "name": "stdout",
     "output_type": "stream",
     "text": [
      "[('a', 'a'), ('a', 'b'), ('a', 'c'), ('b', 'b'), ('b', 'c'), ('c', 'c')]\n"
     ]
    }
   ],
   "source": [
    "print(list(itertools.combinations_with_replacement(\"abc\", r=2)))"
   ]
  },
  {
   "cell_type": "code",
   "execution_count": null,
   "metadata": {},
   "outputs": [],
   "source": []
  }
 ],
 "metadata": {
  "kernelspec": {
   "display_name": "Python 3",
   "language": "python",
   "name": "python3"
  },
  "language_info": {
   "codemirror_mode": {
    "name": "ipython",
    "version": 3
   },
   "file_extension": ".py",
   "mimetype": "text/x-python",
   "name": "python",
   "nbconvert_exporter": "python",
   "pygments_lexer": "ipython3",
   "version": "3.7.6"
  }
 },
 "nbformat": 4,
 "nbformat_minor": 4
}
