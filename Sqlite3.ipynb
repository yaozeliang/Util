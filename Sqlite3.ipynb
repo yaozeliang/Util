{
 "cells": [
  {
   "cell_type": "code",
   "execution_count": 186,
   "metadata": {},
   "outputs": [],
   "source": [
    "import numpy as np\n",
    "import pandas as pd\n",
    "import glob\n",
    "import shutil\n",
    "import os\n",
    "import sqlite3\n",
    "from copy import deepcopy\n",
    "from datetime import datetime,timedelta,date"
   ]
  },
  {
   "cell_type": "code",
   "execution_count": 187,
   "metadata": {},
   "outputs": [],
   "source": [
    "# import sys\n",
    "# sys.append()"
   ]
  },
  {
   "cell_type": "code",
   "execution_count": 188,
   "metadata": {},
   "outputs": [],
   "source": [
    "def get_mem_usage(df):\n",
    "    print(f\"{df.memory_usage(deep=True).sum()/1024 **2:3.2f}Mb\")"
   ]
  },
  {
   "cell_type": "code",
   "execution_count": 189,
   "metadata": {},
   "outputs": [],
   "source": [
    "def get_general_info(df):\n",
    "    name = [x for x in globals() if globals()[x] is df][0]\n",
    "    print(f\"Dataframe << {name}>>has {df.shape[0]} rows, {df.shape[1]} columns\")\n",
    "    print(\"=======================================\")\n",
    "    print(\"Column Types:\\n\")\n",
    "    print(df.dtypes)\n",
    "    print(\"=======================================\")\n",
    "    print(\"Missing values per column: \")\n",
    "    percent_missing = df.isnull().sum()*100 / len(df)\n",
    "    missing_value_df = pd.DataFrame({'column_name':df.columns,'percent_missing':percent_missing})\n",
    "    missing_value_df['percent_missing'] = [\"{:.2f}%\".format(x) for x in missing_value_df['percent_missing'] ]\n",
    "    print(missing_value_df)\n",
    "    print(\"=======================================\")\n",
    "    print(f\"Memory Use: {df.memory_usage(deep=True).sum()/1024 **2:3.2f}Mb\")    \n",
    "    print(\"=======================================\")\n",
    "    print(\"Missing Values in columns: \")\n",
    "    print(df.isnull().sum())\n",
    "\n",
    "    "
   ]
  },
  {
   "cell_type": "code",
   "execution_count": 190,
   "metadata": {},
   "outputs": [],
   "source": [
    "def change_col_format(df,target_type):\n",
    "    for c in df.columns:\n",
    "        df[c] = df[c].astype(target_type)\n",
    "    return df"
   ]
  },
  {
   "cell_type": "code",
   "execution_count": 191,
   "metadata": {},
   "outputs": [],
   "source": [
    "def get_optimize_df(df):\n",
    "    df.astype({col:'category' for col in df.columns if df[col].nunique() / df[col].shape[0]<0.5})\n",
    "    return df"
   ]
  },
  {
   "cell_type": "code",
   "execution_count": 192,
   "metadata": {},
   "outputs": [],
   "source": [
    "def save_as_pickle(df,name,path=None):\n",
    "    try:\n",
    "        if path==None:\n",
    "            df.to_pickle(f\"{name}.pkl\")\n",
    "            print(f\"Dataframe saved as pickle in => {os.getcwd()}\")\n",
    "        else:\n",
    "            current_path = os.getcwd()\n",
    "            df.to_pickle(f\"{path}/{name}.pkl\")\n",
    "            print(f\"Dataframe saved as pickle in => {path}/{name}.pkl\")\n",
    "            os.chdir(current_path)\n",
    "    except:\n",
    "        print(\"Save failed. Make sure it's a dataframe or the path is correct\")\n",
    "            "
   ]
  },
  {
   "cell_type": "code",
   "execution_count": 193,
   "metadata": {},
   "outputs": [],
   "source": [
    "def read_pickle_as_df(path=None):\n",
    "    result={}\n",
    "    current_path = os.getcwd()\n",
    "    target_path = os.getcwd()\n",
    "    if path!=None:\n",
    "        target_path = path\n",
    "\n",
    "        \n",
    "    os.chdir(target_path)\n",
    "    lst = glob.glob(f\"*.pkl\")\n",
    "        \n",
    "    for p in lst:\n",
    "        name = p.split(\".\")[0]\n",
    "        result[name]=pd.read_pickle(p)\n",
    "    \n",
    "    os.chdir(current_path)\n",
    "    return result\n",
    "    "
   ]
  },
  {
   "cell_type": "code",
   "execution_count": 194,
   "metadata": {},
   "outputs": [],
   "source": [
    "def get_n_days_ago(n=0,time_format=\"%d-%m-%Y\"):\n",
    "    time_stamp = datetime.now()-timedelta(days=n)\n",
    "    return time_stamp.strftime(time_format)"
   ]
  },
  {
   "cell_type": "code",
   "execution_count": 195,
   "metadata": {},
   "outputs": [],
   "source": [
    "def get_files(extension):\n",
    "    return glob.glob(f\"*.{extension}\")"
   ]
  },
  {
   "cell_type": "code",
   "execution_count": 196,
   "metadata": {},
   "outputs": [],
   "source": [
    "def create_clean_dir(name):\n",
    "    if os.path.isdir(name):\n",
    "        shutil.rmtree(name)\n",
    "        os.makedirs(name)\n",
    "    else:\n",
    "        os.makedirs(name)\n",
    "    os.chdir(name)\n",
    "    print(f\"Current working dir => :{os.getcwd()}\")\n",
    "        "
   ]
  },
  {
   "cell_type": "code",
   "execution_count": 197,
   "metadata": {},
   "outputs": [],
   "source": [
    "def read_large_csv(name,chunkSize=1000000,encoding='utf-8'):\n",
    "\n",
    "    reader = pd.read_csv(name,iterator=True,encoding=encoding)\n",
    "    chunks=[]\n",
    "    loop=True\n",
    "    while loop:\n",
    "        try:\n",
    "            chunk = reader.get_chunk(chunkSize)\n",
    "            chunks.append(chunk)\n",
    "        except StopIteration:\n",
    "            loop=False\n",
    "    df = pd.concat(chunks,ignore_index=True)\n",
    "    return df"
   ]
  },
  {
   "cell_type": "code",
   "execution_count": 206,
   "metadata": {},
   "outputs": [],
   "source": [
    "# get_files(\"xlsx\")"
   ]
  },
  {
   "cell_type": "code",
   "execution_count": 207,
   "metadata": {
    "scrolled": true
   },
   "outputs": [],
   "source": [
    "# df = pd.read_excel(\"test.xlsx\")"
   ]
  },
  {
   "cell_type": "code",
   "execution_count": 208,
   "metadata": {
    "scrolled": false
   },
   "outputs": [],
   "source": [
    "# get_general_info(df)"
   ]
  },
  {
   "cell_type": "code",
   "execution_count": 107,
   "metadata": {},
   "outputs": [],
   "source": [
    "import pandas as pd\n",
    "import numpy as np\n",
    "import sqlite3\n",
    "\n",
    "\n",
    "class DatabaseSqlite3:\n",
    "    \n",
    "    \"\"\" \n",
    "    Custom class to connect a Sqlite3 database \n",
    "    Return in format Datframe or cursor\n",
    "    \"\"\"\n",
    "    \n",
    "    def __init__(self,db_name):\n",
    "        \"\"\"Create a connection\"\"\"\n",
    "        self.db_name =db_name\n",
    "        self.status=False\n",
    "        try:\n",
    "            self.connection = sqlite3.connect(self.db_name)\n",
    "            print(f\"Connected to << {self.db_name}>>\")\n",
    "            self.status = True\n",
    "        except(Exception,sqlite3.Error) as error:\n",
    "            print(\"Error while trying connect\",error)\n",
    "    \n",
    "    def close_connection(self):\n",
    "        \"\"\" Close a connction \"\"\"\n",
    "        if self.status:\n",
    "            self.connection.close()\n",
    "            print(f\"Connection for << {self.db_name} >> is closed\")\n",
    "        else:\n",
    "            print(f\"Connection for << {self.db_name} >> is already closed\")\n",
    "    \n",
    "    \n",
    "    def read_database_version(self):\n",
    "        \"\"\" Get current database version \"\"\"\n",
    "        try:\n",
    "            cursor = self.connection.cursor()\n",
    "            cursor.execute(\"select sqlite_version();\")\n",
    "            db_version = cursor.fetchone()\n",
    "            print(f\"<< {self.db_name} >> 's version is {db_version}\")\n",
    "            \n",
    "        except(Exception,sqlite3.Error) as error:\n",
    "            print(f\"Error while getting data\",error)\n",
    "    \n",
    "    def get_table_names(self):\n",
    "        \"\"\"Return all table names in the current database\"\"\"\n",
    "        try:\n",
    "            cursor = self.connection.cursor()\n",
    "            query = cursor.execute(\"SELECT name FROM sqlite_master WHERE type='table';\")\n",
    "            records =cursor.fetchall()\n",
    "            cols = [column[0] for column in query.description]\n",
    "            cursor.close()\n",
    "        except sqlite3.Error as error:\n",
    "            print(f\"Failed to read data from sqlite table\",error)\n",
    "        results = pd.DataFrame.from_records(data=records,columns=cols).rename(columns={'name':'Table Name'})\n",
    "        return results\n",
    "    \n",
    "    def read_table_with_df(self,table_name,conditions=None,limit=None):\n",
    "        \"\"\"\n",
    "        Get a table in current database, return the table with format Dataframe\n",
    "        conditions: SQL query\n",
    "        limit: number of rows returns\n",
    "        \"\"\"\n",
    "        extra_conditon = \"\"\n",
    "        if conditions:\n",
    "            extra_conditon=f\" WHERE {conditions}\"\n",
    "            \n",
    "        try:\n",
    "            if limit==None:\n",
    "                sqlite_query = f\"\"\"SELECT * from {table_name}\"\"\"+extra_conditon\n",
    "            else:\n",
    "                sqlite_query = f\"\"\"SELECT * from {table_name} LIMIT {limit}\"\"\"+extra_conditon\n",
    "            df = pd.read_sql(sqlite_query,self.connection)\n",
    "        except sqlite3.Error as error:\n",
    "            print(\"Failed to retrive data from sqlite table\")\n",
    "        return df\n",
    "    \n",
    "    def get_column_names_from_table(self,table_name):\n",
    "        \n",
    "        \"\"\"Return a list of column names from a table in database\"\"\"\n",
    "        columns_names=list()\n",
    "        try:\n",
    "            cursor =self.connection.cursor()\n",
    "            table_column_names = 'PRAGMA table_info('+table_name+');'\n",
    "            cursor.execute(table_column_names)\n",
    "            records = cursor.fetchall()\n",
    "            for name in records:\n",
    "                columns_names.append(name[1])\n",
    "            \n",
    "            cursor.close()\n",
    "        except sqlite3.Error as error:\n",
    "            print(\"Failed to get data\",error)\n",
    "            \n",
    "        return columns_names\n",
    "    \n",
    "    def replace_table_with_df(self,table_name,df,replace=False):\n",
    "        \"\"\"\n",
    "        Replace the selected table with Dataframe\n",
    "        replace=False:append data to the table\n",
    "        replace=True:replace all data with df\n",
    "        \"\"\"\n",
    "        try:\n",
    "            if table_name in list(self.get_table_names()['Table Name']):\n",
    "                print(f\"Found table <<{table_name}>> in Database <<{self.db_name}>>\")\n",
    "            else:\n",
    "                print(f\"Attention , creating new table <<{table_name}>> in Database <<{self.db_name}>> \")\n",
    "            \n",
    "            if replace:\n",
    "                df.to_sql(name=table_name,con=self.connection,if_exists=\"replace\", index=False)\n",
    "            else:\n",
    "                df.to_sql(name=table_name,con=self.connection,if_exists=\"append\", index=False)\n",
    "                print(\"Sql insert process finished.\")\n",
    "        \n",
    "        except sqlite3.Error as error:\n",
    "            print(\"Failed to update\",error)\n",
    "            print(\"If it's a creation, be careful with columns format and value types\")\n",
    "    \n",
    "    def __getitem__(self,table_name):\n",
    "        try:\n",
    "            return self.read_table_with_df(table_name)\n",
    "        except:\n",
    "            raise KeyValueError(f\"{table_name} not found in database.\")\n",
    "    \n",
    "    def update_table(self,table_name,update_values,conditions):\n",
    "        \"\"\"\n",
    "        Update a table with new values and conditons\n",
    "        update_values:list of update values\n",
    "        conditions: string / list of SQL expression\n",
    "        \"\"\"\n",
    "        \n",
    "        updated = update_values\n",
    "        cond = conditions\n",
    "        \n",
    "        if isinstance(updated,list):\n",
    "            updated = \", \".join(update_values)\n",
    "        if isinstance(conditions,list):\n",
    "            cond = \" AND \".join(conditions)\n",
    "        \n",
    "        sqlite_query = f\"UPDATE {table_name} SET {updated} WHERE {cond};\"\n",
    "        print(sqlite_query)\n",
    "        try:\n",
    "            cursor = self.connection.cursor()\n",
    "            cursor.execute(sqlite_query)\n",
    "            self.connection.commit()\n",
    "            cursor.close()\n",
    "            print(f\"Update table << {table_name} >> success.\")\n",
    "        except sqlite3.Error as error:\n",
    "            print(f\"Failed to update table {table_name}\",error)\n",
    "            \n",
    "            \n",
    "    def delete_table(self,table_name):\n",
    "        \"\"\"Remove a table in the current database\"\"\"\n",
    "        try:\n",
    "            cursor =self.connection.cursor()\n",
    "            sqlite_query = f\"DROP TABLE {table_name};\"\n",
    "            cursor.execute(sqlite_query)\n",
    "            self.connection.commit()\n",
    "            cursor.close()\n",
    "            print(f\"Drop table << {table_name} >> success.\")\n",
    "            \n",
    "        except sqlite3.Error as error:\n",
    "            print(f\"Failed to delete table <<{table_name}>>\",error)\n",
    "            \n",
    "    def back_up_to(self,dest):\n",
    "        current_path = os.getcwd()\n",
    "        os.chdir(dest)\n",
    "        new_name =\"Backup\"+datetime.now().strftime(\"%d-%m-%Y\")+self.db_name\n",
    "        bck = sqlite3.connect(new_name)\n",
    "        self.connection.backup(bck)\n",
    "        bck.close()\n",
    "        print(\"Back Up finished.\")\n",
    "        os.chdir(current_path)\n",
    "            "
   ]
  },
  {
   "cell_type": "code",
   "execution_count": 108,
   "metadata": {},
   "outputs": [
    {
     "data": {
      "text/html": [
       "<div>\n",
       "<style scoped>\n",
       "    .dataframe tbody tr th:only-of-type {\n",
       "        vertical-align: middle;\n",
       "    }\n",
       "\n",
       "    .dataframe tbody tr th {\n",
       "        vertical-align: top;\n",
       "    }\n",
       "\n",
       "    .dataframe thead th {\n",
       "        text-align: right;\n",
       "    }\n",
       "</style>\n",
       "<table border=\"1\" class=\"dataframe\">\n",
       "  <thead>\n",
       "    <tr style=\"text-align: right;\">\n",
       "      <th></th>\n",
       "      <th>name</th>\n",
       "      <th>age</th>\n",
       "      <th>country</th>\n",
       "    </tr>\n",
       "  </thead>\n",
       "  <tbody>\n",
       "    <tr>\n",
       "      <th>0</th>\n",
       "      <td>a</td>\n",
       "      <td>20</td>\n",
       "      <td>china</td>\n",
       "    </tr>\n",
       "    <tr>\n",
       "      <th>1</th>\n",
       "      <td>b</td>\n",
       "      <td>34</td>\n",
       "      <td>us</td>\n",
       "    </tr>\n",
       "    <tr>\n",
       "      <th>2</th>\n",
       "      <td>c</td>\n",
       "      <td>5</td>\n",
       "      <td>france</td>\n",
       "    </tr>\n",
       "    <tr>\n",
       "      <th>3</th>\n",
       "      <td>d</td>\n",
       "      <td>80</td>\n",
       "      <td>italy</td>\n",
       "    </tr>\n",
       "  </tbody>\n",
       "</table>\n",
       "</div>"
      ],
      "text/plain": [
       "  name  age country\n",
       "0    a   20   china\n",
       "1    b   34      us\n",
       "2    c    5  france\n",
       "3    d   80   italy"
      ]
     },
     "execution_count": 108,
     "metadata": {},
     "output_type": "execute_result"
    }
   ],
   "source": [
    "students = pd.DataFrame({'name':['a','b','c','d'],'age':[20,34,5,80],'country':['china','us','france','italy']})\n",
    "students"
   ]
  },
  {
   "cell_type": "code",
   "execution_count": 109,
   "metadata": {},
   "outputs": [
    {
     "name": "stdout",
     "output_type": "stream",
     "text": [
      "Connected to << test_db>>\n"
     ]
    }
   ],
   "source": [
    "db = DatabaseSqlite3('test_db')"
   ]
  },
  {
   "cell_type": "code",
   "execution_count": 110,
   "metadata": {},
   "outputs": [
    {
     "name": "stdout",
     "output_type": "stream",
     "text": [
      "Found table <<students>> in Database <<test_db>>\n"
     ]
    }
   ],
   "source": [
    "db.replace_table_with_df('students',students,replace=True)"
   ]
  },
  {
   "cell_type": "code",
   "execution_count": 111,
   "metadata": {},
   "outputs": [
    {
     "data": {
      "text/html": [
       "<div>\n",
       "<style scoped>\n",
       "    .dataframe tbody tr th:only-of-type {\n",
       "        vertical-align: middle;\n",
       "    }\n",
       "\n",
       "    .dataframe tbody tr th {\n",
       "        vertical-align: top;\n",
       "    }\n",
       "\n",
       "    .dataframe thead th {\n",
       "        text-align: right;\n",
       "    }\n",
       "</style>\n",
       "<table border=\"1\" class=\"dataframe\">\n",
       "  <thead>\n",
       "    <tr style=\"text-align: right;\">\n",
       "      <th></th>\n",
       "      <th>Table Name</th>\n",
       "    </tr>\n",
       "  </thead>\n",
       "  <tbody>\n",
       "    <tr>\n",
       "      <th>0</th>\n",
       "      <td>students</td>\n",
       "    </tr>\n",
       "  </tbody>\n",
       "</table>\n",
       "</div>"
      ],
      "text/plain": [
       "  Table Name\n",
       "0   students"
      ]
     },
     "execution_count": 111,
     "metadata": {},
     "output_type": "execute_result"
    }
   ],
   "source": [
    "db.get_table_names()"
   ]
  },
  {
   "cell_type": "code",
   "execution_count": 112,
   "metadata": {
    "scrolled": true
   },
   "outputs": [
    {
     "data": {
      "text/html": [
       "<div>\n",
       "<style scoped>\n",
       "    .dataframe tbody tr th:only-of-type {\n",
       "        vertical-align: middle;\n",
       "    }\n",
       "\n",
       "    .dataframe tbody tr th {\n",
       "        vertical-align: top;\n",
       "    }\n",
       "\n",
       "    .dataframe thead th {\n",
       "        text-align: right;\n",
       "    }\n",
       "</style>\n",
       "<table border=\"1\" class=\"dataframe\">\n",
       "  <thead>\n",
       "    <tr style=\"text-align: right;\">\n",
       "      <th></th>\n",
       "      <th>name</th>\n",
       "      <th>age</th>\n",
       "      <th>country</th>\n",
       "    </tr>\n",
       "  </thead>\n",
       "  <tbody>\n",
       "    <tr>\n",
       "      <th>0</th>\n",
       "      <td>a</td>\n",
       "      <td>20</td>\n",
       "      <td>china</td>\n",
       "    </tr>\n",
       "    <tr>\n",
       "      <th>1</th>\n",
       "      <td>b</td>\n",
       "      <td>34</td>\n",
       "      <td>us</td>\n",
       "    </tr>\n",
       "    <tr>\n",
       "      <th>2</th>\n",
       "      <td>c</td>\n",
       "      <td>5</td>\n",
       "      <td>france</td>\n",
       "    </tr>\n",
       "    <tr>\n",
       "      <th>3</th>\n",
       "      <td>d</td>\n",
       "      <td>80</td>\n",
       "      <td>italy</td>\n",
       "    </tr>\n",
       "  </tbody>\n",
       "</table>\n",
       "</div>"
      ],
      "text/plain": [
       "  name  age country\n",
       "0    a   20   china\n",
       "1    b   34      us\n",
       "2    c    5  france\n",
       "3    d   80   italy"
      ]
     },
     "execution_count": 112,
     "metadata": {},
     "output_type": "execute_result"
    }
   ],
   "source": [
    "db.read_table_with_df('students')"
   ]
  },
  {
   "cell_type": "code",
   "execution_count": 113,
   "metadata": {},
   "outputs": [
    {
     "data": {
      "text/html": [
       "<div>\n",
       "<style scoped>\n",
       "    .dataframe tbody tr th:only-of-type {\n",
       "        vertical-align: middle;\n",
       "    }\n",
       "\n",
       "    .dataframe tbody tr th {\n",
       "        vertical-align: top;\n",
       "    }\n",
       "\n",
       "    .dataframe thead th {\n",
       "        text-align: right;\n",
       "    }\n",
       "</style>\n",
       "<table border=\"1\" class=\"dataframe\">\n",
       "  <thead>\n",
       "    <tr style=\"text-align: right;\">\n",
       "      <th></th>\n",
       "      <th>name</th>\n",
       "      <th>age</th>\n",
       "      <th>country</th>\n",
       "    </tr>\n",
       "  </thead>\n",
       "  <tbody>\n",
       "    <tr>\n",
       "      <th>0</th>\n",
       "      <td>a</td>\n",
       "      <td>20</td>\n",
       "      <td>china</td>\n",
       "    </tr>\n",
       "    <tr>\n",
       "      <th>1</th>\n",
       "      <td>b</td>\n",
       "      <td>34</td>\n",
       "      <td>us</td>\n",
       "    </tr>\n",
       "    <tr>\n",
       "      <th>2</th>\n",
       "      <td>c</td>\n",
       "      <td>5</td>\n",
       "      <td>france</td>\n",
       "    </tr>\n",
       "    <tr>\n",
       "      <th>3</th>\n",
       "      <td>d</td>\n",
       "      <td>80</td>\n",
       "      <td>italy</td>\n",
       "    </tr>\n",
       "  </tbody>\n",
       "</table>\n",
       "</div>"
      ],
      "text/plain": [
       "  name  age country\n",
       "0    a   20   china\n",
       "1    b   34      us\n",
       "2    c    5  france\n",
       "3    d   80   italy"
      ]
     },
     "execution_count": 113,
     "metadata": {},
     "output_type": "execute_result"
    }
   ],
   "source": [
    "db['students']"
   ]
  },
  {
   "cell_type": "code",
   "execution_count": 114,
   "metadata": {},
   "outputs": [
    {
     "data": {
      "text/html": [
       "<div>\n",
       "<style scoped>\n",
       "    .dataframe tbody tr th:only-of-type {\n",
       "        vertical-align: middle;\n",
       "    }\n",
       "\n",
       "    .dataframe tbody tr th {\n",
       "        vertical-align: top;\n",
       "    }\n",
       "\n",
       "    .dataframe thead th {\n",
       "        text-align: right;\n",
       "    }\n",
       "</style>\n",
       "<table border=\"1\" class=\"dataframe\">\n",
       "  <thead>\n",
       "    <tr style=\"text-align: right;\">\n",
       "      <th></th>\n",
       "      <th>name</th>\n",
       "      <th>age</th>\n",
       "      <th>country</th>\n",
       "    </tr>\n",
       "  </thead>\n",
       "  <tbody>\n",
       "    <tr>\n",
       "      <th>0</th>\n",
       "      <td>a</td>\n",
       "      <td>20</td>\n",
       "      <td>china</td>\n",
       "    </tr>\n",
       "  </tbody>\n",
       "</table>\n",
       "</div>"
      ],
      "text/plain": [
       "  name  age country\n",
       "0    a   20   china"
      ]
     },
     "execution_count": 114,
     "metadata": {},
     "output_type": "execute_result"
    }
   ],
   "source": [
    "db.read_table_with_df('students',conditions=\"name='a'\")"
   ]
  },
  {
   "cell_type": "code",
   "execution_count": 115,
   "metadata": {},
   "outputs": [
    {
     "data": {
      "text/html": [
       "<div>\n",
       "<style scoped>\n",
       "    .dataframe tbody tr th:only-of-type {\n",
       "        vertical-align: middle;\n",
       "    }\n",
       "\n",
       "    .dataframe tbody tr th {\n",
       "        vertical-align: top;\n",
       "    }\n",
       "\n",
       "    .dataframe thead th {\n",
       "        text-align: right;\n",
       "    }\n",
       "</style>\n",
       "<table border=\"1\" class=\"dataframe\">\n",
       "  <thead>\n",
       "    <tr style=\"text-align: right;\">\n",
       "      <th></th>\n",
       "      <th>name</th>\n",
       "      <th>age</th>\n",
       "      <th>country</th>\n",
       "    </tr>\n",
       "  </thead>\n",
       "  <tbody>\n",
       "    <tr>\n",
       "      <th>0</th>\n",
       "      <td>b</td>\n",
       "      <td>34</td>\n",
       "      <td>us</td>\n",
       "    </tr>\n",
       "    <tr>\n",
       "      <th>1</th>\n",
       "      <td>d</td>\n",
       "      <td>80</td>\n",
       "      <td>italy</td>\n",
       "    </tr>\n",
       "  </tbody>\n",
       "</table>\n",
       "</div>"
      ],
      "text/plain": [
       "  name  age country\n",
       "0    b   34      us\n",
       "1    d   80   italy"
      ]
     },
     "execution_count": 115,
     "metadata": {},
     "output_type": "execute_result"
    }
   ],
   "source": [
    "db.read_table_with_df('students',conditions=\"age>20\")"
   ]
  },
  {
   "cell_type": "code",
   "execution_count": 116,
   "metadata": {
    "scrolled": false
   },
   "outputs": [
    {
     "name": "stdout",
     "output_type": "stream",
     "text": [
      "UPDATE students SET country=\"UK\" WHERE name=\"c\";\n",
      "Update table << students >> success.\n"
     ]
    }
   ],
   "source": [
    "db.update_table('students',['country=\"UK\"'],conditions=['name=\"c\"'])"
   ]
  },
  {
   "cell_type": "code",
   "execution_count": 117,
   "metadata": {},
   "outputs": [
    {
     "data": {
      "text/html": [
       "<div>\n",
       "<style scoped>\n",
       "    .dataframe tbody tr th:only-of-type {\n",
       "        vertical-align: middle;\n",
       "    }\n",
       "\n",
       "    .dataframe tbody tr th {\n",
       "        vertical-align: top;\n",
       "    }\n",
       "\n",
       "    .dataframe thead th {\n",
       "        text-align: right;\n",
       "    }\n",
       "</style>\n",
       "<table border=\"1\" class=\"dataframe\">\n",
       "  <thead>\n",
       "    <tr style=\"text-align: right;\">\n",
       "      <th></th>\n",
       "      <th>name</th>\n",
       "      <th>age</th>\n",
       "      <th>country</th>\n",
       "    </tr>\n",
       "  </thead>\n",
       "  <tbody>\n",
       "    <tr>\n",
       "      <th>0</th>\n",
       "      <td>a</td>\n",
       "      <td>20</td>\n",
       "      <td>china</td>\n",
       "    </tr>\n",
       "    <tr>\n",
       "      <th>1</th>\n",
       "      <td>b</td>\n",
       "      <td>34</td>\n",
       "      <td>us</td>\n",
       "    </tr>\n",
       "    <tr>\n",
       "      <th>2</th>\n",
       "      <td>c</td>\n",
       "      <td>5</td>\n",
       "      <td>UK</td>\n",
       "    </tr>\n",
       "    <tr>\n",
       "      <th>3</th>\n",
       "      <td>d</td>\n",
       "      <td>80</td>\n",
       "      <td>italy</td>\n",
       "    </tr>\n",
       "  </tbody>\n",
       "</table>\n",
       "</div>"
      ],
      "text/plain": [
       "  name  age country\n",
       "0    a   20   china\n",
       "1    b   34      us\n",
       "2    c    5      UK\n",
       "3    d   80   italy"
      ]
     },
     "execution_count": 117,
     "metadata": {},
     "output_type": "execute_result"
    }
   ],
   "source": [
    "db.read_table_with_df('students')"
   ]
  },
  {
   "cell_type": "code",
   "execution_count": 118,
   "metadata": {},
   "outputs": [
    {
     "name": "stdout",
     "output_type": "stream",
     "text": [
      "UPDATE students SET country=\"japan\" WHERE age=5;\n",
      "Update table << students >> success.\n"
     ]
    }
   ],
   "source": [
    "db.update_table('students','country=\"japan\"',conditions='age=5')"
   ]
  },
  {
   "cell_type": "code",
   "execution_count": 119,
   "metadata": {},
   "outputs": [
    {
     "data": {
      "text/html": [
       "<div>\n",
       "<style scoped>\n",
       "    .dataframe tbody tr th:only-of-type {\n",
       "        vertical-align: middle;\n",
       "    }\n",
       "\n",
       "    .dataframe tbody tr th {\n",
       "        vertical-align: top;\n",
       "    }\n",
       "\n",
       "    .dataframe thead th {\n",
       "        text-align: right;\n",
       "    }\n",
       "</style>\n",
       "<table border=\"1\" class=\"dataframe\">\n",
       "  <thead>\n",
       "    <tr style=\"text-align: right;\">\n",
       "      <th></th>\n",
       "      <th>name</th>\n",
       "      <th>age</th>\n",
       "      <th>country</th>\n",
       "    </tr>\n",
       "  </thead>\n",
       "  <tbody>\n",
       "    <tr>\n",
       "      <th>0</th>\n",
       "      <td>a</td>\n",
       "      <td>20</td>\n",
       "      <td>china</td>\n",
       "    </tr>\n",
       "    <tr>\n",
       "      <th>1</th>\n",
       "      <td>b</td>\n",
       "      <td>34</td>\n",
       "      <td>us</td>\n",
       "    </tr>\n",
       "    <tr>\n",
       "      <th>2</th>\n",
       "      <td>c</td>\n",
       "      <td>5</td>\n",
       "      <td>japan</td>\n",
       "    </tr>\n",
       "    <tr>\n",
       "      <th>3</th>\n",
       "      <td>d</td>\n",
       "      <td>80</td>\n",
       "      <td>italy</td>\n",
       "    </tr>\n",
       "  </tbody>\n",
       "</table>\n",
       "</div>"
      ],
      "text/plain": [
       "  name  age country\n",
       "0    a   20   china\n",
       "1    b   34      us\n",
       "2    c    5   japan\n",
       "3    d   80   italy"
      ]
     },
     "execution_count": 119,
     "metadata": {},
     "output_type": "execute_result"
    }
   ],
   "source": [
    "db.read_table_with_df('students')"
   ]
  },
  {
   "cell_type": "code",
   "execution_count": 121,
   "metadata": {},
   "outputs": [
    {
     "name": "stdout",
     "output_type": "stream",
     "text": [
      "Connection for << test_db >> is closed\n"
     ]
    }
   ],
   "source": [
    "db.close_connection()"
   ]
  },
  {
   "cell_type": "code",
   "execution_count": null,
   "metadata": {},
   "outputs": [],
   "source": []
  }
 ],
 "metadata": {
  "kernelspec": {
   "display_name": "Python 3",
   "language": "python",
   "name": "python3"
  },
  "language_info": {
   "codemirror_mode": {
    "name": "ipython",
    "version": 3
   },
   "file_extension": ".py",
   "mimetype": "text/x-python",
   "name": "python",
   "nbconvert_exporter": "python",
   "pygments_lexer": "ipython3",
   "version": "3.7.6"
  }
 },
 "nbformat": 4,
 "nbformat_minor": 4
}
